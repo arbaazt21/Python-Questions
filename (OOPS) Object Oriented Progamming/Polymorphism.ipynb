{
 "cells": [
  {
   "cell_type": "markdown",
   "id": "3d4fc949-34ae-4e4d-b7c8-4401f195d21a",
   "metadata": {},
   "source": [
    "# Polymorphism"
   ]
  },
  {
   "cell_type": "raw",
   "id": "b13ce922-0444-4446-a8f2-dd1735c2b12e",
   "metadata": {},
   "source": [
    "1) --> The word \"polymorphism\" means \"many forms\",\n",
    "    and in programming it refers to methods/functions/operators with the same name that can be executed on many objects or classes."
   ]
  },
  {
   "cell_type": "raw",
   "id": "7c4bf7ff-0089-4c5e-a0e4-30376c004842",
   "metadata": {},
   "source": [
    "2) --> The word polymorphism means having \"many forms\".\n",
    "    In programming, polymorphism means the \"same function name\" (but different signatures) being used for different types.\n",
    "    The key difference is the data types and number of arguments used in function."
   ]
  },
  {
   "cell_type": "code",
   "execution_count": null,
   "id": "8eeb502f-1ead-4c27-ac15-3fc7e081b7e1",
   "metadata": {},
   "outputs": [],
   "source": []
  },
  {
   "cell_type": "code",
   "execution_count": 1,
   "id": "8610c607-d135-4461-9a19-9bad7f43b17c",
   "metadata": {},
   "outputs": [],
   "source": [
    "class College:\n",
    "    def marks(self):\n",
    "        print(\"I have 90% in college\")\n",
    "\n",
    "class School:\n",
    "    def marks(self):\n",
    "        print(\"I have 85% in college\")"
   ]
  },
  {
   "cell_type": "code",
   "execution_count": 2,
   "id": "7523ee47-88ba-4137-bb94-4be1db77d52a",
   "metadata": {},
   "outputs": [],
   "source": [
    "def evaluation(result):\n",
    "    return result.marks()"
   ]
  },
  {
   "cell_type": "code",
   "execution_count": 3,
   "id": "d5d79013-565a-408b-9f11-b0283dea8502",
   "metadata": {},
   "outputs": [],
   "source": [
    "c = College()\n",
    "s = School()"
   ]
  },
  {
   "cell_type": "code",
   "execution_count": 4,
   "id": "52df147b-f160-4b19-9230-2fd9c4abc13b",
   "metadata": {},
   "outputs": [
    {
     "name": "stdout",
     "output_type": "stream",
     "text": [
      "I have 90% in college\n"
     ]
    }
   ],
   "source": [
    "evaluation(c)"
   ]
  },
  {
   "cell_type": "code",
   "execution_count": 5,
   "id": "32a56820-efa9-4390-9d03-38764cb97e08",
   "metadata": {},
   "outputs": [
    {
     "name": "stdout",
     "output_type": "stream",
     "text": [
      "I have 85% in college\n"
     ]
    }
   ],
   "source": [
    "evaluation(s)"
   ]
  },
  {
   "cell_type": "code",
   "execution_count": null,
   "id": "c212b697-49dc-41fe-8fcf-9fcf9289c56b",
   "metadata": {},
   "outputs": [],
   "source": []
  },
  {
   "cell_type": "code",
   "execution_count": null,
   "id": "2c19847d-c7ad-471a-82cd-88058d7826b7",
   "metadata": {},
   "outputs": [],
   "source": []
  },
  {
   "cell_type": "code",
   "execution_count": 6,
   "id": "73a84aee-10c9-4208-8d05-e8ddcab6d7dd",
   "metadata": {},
   "outputs": [],
   "source": [
    "class Football:\n",
    "    def score(self):\n",
    "        return \"best score\"\n",
    "\n",
    "class Cricket:\n",
    "    def score(self):\n",
    "        return \"ok ok score\""
   ]
  },
  {
   "cell_type": "code",
   "execution_count": 7,
   "id": "034aaea9-a59b-48b0-9a1b-72270f6c73de",
   "metadata": {},
   "outputs": [],
   "source": [
    "def evaluation(result):\n",
    "    return result.score()"
   ]
  },
  {
   "cell_type": "code",
   "execution_count": 8,
   "id": "aaf3906b-b4d6-4215-bfae-c77cef856109",
   "metadata": {},
   "outputs": [],
   "source": [
    "f = Football()\n",
    "c = Cricket()"
   ]
  },
  {
   "cell_type": "code",
   "execution_count": 9,
   "id": "a774de44-4fee-41e0-9c9c-79dc1e7b3191",
   "metadata": {},
   "outputs": [
    {
     "data": {
      "text/plain": [
       "'ok ok score'"
      ]
     },
     "execution_count": 9,
     "metadata": {},
     "output_type": "execute_result"
    }
   ],
   "source": [
    "evaluation(c)"
   ]
  },
  {
   "cell_type": "code",
   "execution_count": 10,
   "id": "668af1fb-fa59-4c5b-82fa-d7756d7f2776",
   "metadata": {},
   "outputs": [
    {
     "data": {
      "text/plain": [
       "'best score'"
      ]
     },
     "execution_count": 10,
     "metadata": {},
     "output_type": "execute_result"
    }
   ],
   "source": [
    "evaluation(f)"
   ]
  },
  {
   "cell_type": "code",
   "execution_count": null,
   "id": "d8418565-bec8-49ac-8386-1f08cba4233f",
   "metadata": {},
   "outputs": [],
   "source": []
  },
  {
   "cell_type": "code",
   "execution_count": null,
   "id": "43cc0142-d17f-4dc1-9a33-0910f6821117",
   "metadata": {},
   "outputs": [],
   "source": []
  },
  {
   "cell_type": "code",
   "execution_count": 11,
   "id": "58e4a341-9dab-4ab4-b46e-d946ed362820",
   "metadata": {},
   "outputs": [
    {
     "name": "stdout",
     "output_type": "stream",
     "text": [
      "Woof!\n",
      "Meow!\n",
      "Moo!\n"
     ]
    }
   ],
   "source": [
    "class Animal:\n",
    "    def speak(self):\n",
    "        pass\n",
    "\n",
    "class Dog(Animal):\n",
    "    def speak(self):\n",
    "        return \"Woof!\"\n",
    "\n",
    "class Cat(Animal):\n",
    "    def speak(self):\n",
    "        return \"Meow!\"\n",
    "\n",
    "class Cow(Animal):\n",
    "    def speak(self):\n",
    "        return \"Moo!\"\n",
    "\n",
    "# Create instances of different animals\n",
    "dog = Dog()\n",
    "cat = Cat()\n",
    "cow = Cow()\n",
    "\n",
    "# Store the animals in a list\n",
    "animals = [dog, cat, cow]\n",
    "\n",
    "# Call the 'speak' method on each animal without knowing their specific types\n",
    "for animal in animals:\n",
    "    print(animal.speak())\n"
   ]
  },
  {
   "cell_type": "code",
   "execution_count": null,
   "id": "a0f6c0c6-0dc2-43d3-a323-66b00000e7a9",
   "metadata": {},
   "outputs": [],
   "source": []
  },
  {
   "cell_type": "code",
   "execution_count": null,
   "id": "a49aac69-46d6-45f3-b7be-1e439983ba2e",
   "metadata": {},
   "outputs": [],
   "source": []
  },
  {
   "cell_type": "code",
   "execution_count": 40,
   "id": "d482357d-3cc6-4a99-a364-698d67a31659",
   "metadata": {},
   "outputs": [],
   "source": [
    "class English:\n",
    "    def say_hello(self):\n",
    "        print(\"HELLO\")\n",
    "\n",
    "class Hindi:\n",
    "    def say_hello(self):\n",
    "        print(\"NAMASTE\")\n",
    "\n",
    "def greet(lang):\n",
    "    return lang.say_hello()"
   ]
  },
  {
   "cell_type": "code",
   "execution_count": 41,
   "id": "e65f0ef0-2a51-4b2c-83e8-b1450f214b6f",
   "metadata": {},
   "outputs": [],
   "source": [
    "arbaaz = English()\n",
    "messi = Hindi()"
   ]
  },
  {
   "cell_type": "code",
   "execution_count": 42,
   "id": "d8a7815d-7bf9-4b3e-8cf6-476e2c3ff6f5",
   "metadata": {},
   "outputs": [
    {
     "name": "stdout",
     "output_type": "stream",
     "text": [
      "HELLO\n",
      "NAMASTE\n"
     ]
    }
   ],
   "source": [
    "greet(arbaaz)\n",
    "greet(messi)"
   ]
  },
  {
   "cell_type": "code",
   "execution_count": null,
   "id": "d3d65a4c-bc3e-4043-b0d5-daf220b6db2d",
   "metadata": {},
   "outputs": [],
   "source": []
  },
  {
   "cell_type": "code",
   "execution_count": null,
   "id": "ff89e510-46ab-4808-9e07-8156540b1108",
   "metadata": {},
   "outputs": [],
   "source": []
  },
  {
   "cell_type": "code",
   "execution_count": 43,
   "id": "8ddb25f9-d11e-4410-9140-c561728ba1cc",
   "metadata": {},
   "outputs": [],
   "source": [
    "class English:\n",
    "    def say_hello(self):\n",
    "        return \"HELLO\"\n",
    "\n",
    "class Hindi:\n",
    "    def say_hello(self):\n",
    "        return\"NAMASTE\""
   ]
  },
  {
   "cell_type": "raw",
   "id": "74d36311-af16-4b23-be52-b851d2993d59",
   "metadata": {},
   "source": [
    "arbaaz = English()\n",
    "messi = Hindi()"
   ]
  },
  {
   "cell_type": "code",
   "execution_count": 45,
   "id": "bbea6009-41b3-4625-a5ba-facf66ea6cfb",
   "metadata": {},
   "outputs": [],
   "source": [
    "language = [arbaaz, messi]"
   ]
  },
  {
   "cell_type": "code",
   "execution_count": 46,
   "id": "0bc523ee-37d0-45ad-b034-1932d43e5924",
   "metadata": {},
   "outputs": [
    {
     "name": "stdout",
     "output_type": "stream",
     "text": [
      "HELLO\n",
      "NAMASTE\n"
     ]
    }
   ],
   "source": [
    "for i in language:\n",
    "    print(i.say_hello())"
   ]
  },
  {
   "cell_type": "code",
   "execution_count": null,
   "id": "71aa72e4-fe74-4b3a-9c9d-f799e29a84d0",
   "metadata": {},
   "outputs": [],
   "source": []
  },
  {
   "cell_type": "code",
   "execution_count": null,
   "id": "ab9c28c0-6e59-409d-a003-bace1ab10356",
   "metadata": {},
   "outputs": [],
   "source": []
  },
  {
   "cell_type": "code",
   "execution_count": null,
   "id": "8ce0cb41-ceb2-43dd-8b7b-23c733e6667a",
   "metadata": {},
   "outputs": [],
   "source": []
  },
  {
   "cell_type": "markdown",
   "id": "5ac5eef4-d094-4355-9dda-21abf706ec9b",
   "metadata": {},
   "source": [
    "### Method Overloading"
   ]
  },
  {
   "cell_type": "raw",
   "id": "615463c2-c7d4-4f9b-8dfc-05b4dc1bbb38",
   "metadata": {},
   "source": [
    "Two or more methods have the \"same name\" but (different no. of parameters or different types of parameters, or both).\n",
    "These methods are called overloaded methods and this is called method overloading. "
   ]
  },
  {
   "cell_type": "code",
   "execution_count": null,
   "id": "f4af1fc3-cfaa-498d-9da3-8901670bf214",
   "metadata": {},
   "outputs": [],
   "source": []
  },
  {
   "cell_type": "code",
   "execution_count": 48,
   "id": "3be36b86-86d7-4986-8edb-2732f7d7dbab",
   "metadata": {},
   "outputs": [],
   "source": [
    "class A:\n",
    "    def show(self):\n",
    "        print(\"Welcome\")\n",
    "\n",
    "    def show(self, firstname = \" \"):\n",
    "        print(\"Welcome\", firstname)\n",
    "\n",
    "    def show(self, firstname = \" \", lastname = \" \"):\n",
    "        print(\"Welcome\", firstname, lastname)"
   ]
  },
  {
   "cell_type": "code",
   "execution_count": 52,
   "id": "f468d1ed-7f37-453d-a848-2bb77c8cb568",
   "metadata": {},
   "outputs": [],
   "source": [
    "obj = A()"
   ]
  },
  {
   "cell_type": "code",
   "execution_count": 58,
   "id": "c16f28f8-0d4e-4586-8f09-653bc3ffb059",
   "metadata": {},
   "outputs": [
    {
     "name": "stdout",
     "output_type": "stream",
     "text": [
      "Welcome    \n",
      "Welcome Arbaaz  \n",
      "Welcome Arbaaz Tamboli\n"
     ]
    }
   ],
   "source": [
    "obj.show()\n",
    "obj.show(\"Arbaaz\")\n",
    "obj.show(\"Arbaaz\",\"Tamboli\")"
   ]
  },
  {
   "cell_type": "raw",
   "id": "def08c6c-3074-4de7-b221-404f91d790f8",
   "metadata": {},
   "source": [
    "\n",
    "                       OR\n"
   ]
  },
  {
   "cell_type": "code",
   "execution_count": 60,
   "id": "9305c302-fe91-412b-83a7-a3af3c12d603",
   "metadata": {},
   "outputs": [],
   "source": [
    "class A:\n",
    "    def show(self, firstname = \" \", lastname = \" \"):\n",
    "        print(\"Welcome\", firstname, lastname)"
   ]
  },
  {
   "cell_type": "code",
   "execution_count": 61,
   "id": "ef3ef1c6-05c7-4d54-8ddc-b8e7057d1186",
   "metadata": {},
   "outputs": [],
   "source": [
    "obj = A()"
   ]
  },
  {
   "cell_type": "code",
   "execution_count": 62,
   "id": "759483f1-f4e5-497f-aa34-40c3c24dd0db",
   "metadata": {},
   "outputs": [
    {
     "name": "stdout",
     "output_type": "stream",
     "text": [
      "Welcome    \n",
      "Welcome Arbaaz  \n",
      "Welcome Arbaaz Tamboli\n"
     ]
    }
   ],
   "source": [
    "obj.show()\n",
    "obj.show(\"Arbaaz\")\n",
    "obj.show(\"Arbaaz\",\"Tamboli\")"
   ]
  },
  {
   "cell_type": "code",
   "execution_count": null,
   "id": "53738795-38ac-4158-9577-47ee50021917",
   "metadata": {},
   "outputs": [],
   "source": []
  },
  {
   "cell_type": "code",
   "execution_count": null,
   "id": "34b70c19-28b1-4796-8af6-1a90b863adfa",
   "metadata": {},
   "outputs": [],
   "source": []
  },
  {
   "cell_type": "markdown",
   "id": "22ca5d9d-9ade-408b-a553-27fcff5e3585",
   "metadata": {},
   "source": [
    "### Method Overriding"
   ]
  },
  {
   "cell_type": "raw",
   "id": "363a89ff-63a6-4d45-9605-e94132ebd86f",
   "metadata": {},
   "source": [
    "Method overriding allows a child class to provide its own implementation of a method that is already defined in its parent class.\n",
    "This is done by simply defining a method with the same name and signature (number and type of parameters) as the parent class method.\n",
    "When a method is overridden, the child class's version of the method will be called instead of the parent class's version when an object of the child class is used to call the method."
   ]
  },
  {
   "cell_type": "code",
   "execution_count": null,
   "id": "4c840840-18ce-454b-be6c-2106583e6d34",
   "metadata": {},
   "outputs": [],
   "source": []
  },
  {
   "cell_type": "code",
   "execution_count": 63,
   "id": "28da5110-53dd-4770-aeea-7c39fae5cd75",
   "metadata": {},
   "outputs": [],
   "source": [
    "class A:\n",
    "    def display(self):\n",
    "        print(\"This is a Parent class method\")\n",
    "\n",
    "class B(A):\n",
    "    def display(self):\n",
    "        print(\"This is a Child class method\")"
   ]
  },
  {
   "cell_type": "code",
   "execution_count": 64,
   "id": "8aa61339-7e3a-4f03-8a7a-b171f50d19d5",
   "metadata": {},
   "outputs": [],
   "source": [
    "obj = B()"
   ]
  },
  {
   "cell_type": "code",
   "execution_count": 67,
   "id": "c1675597-54dd-4fd0-a879-4bc04a17f226",
   "metadata": {},
   "outputs": [
    {
     "name": "stdout",
     "output_type": "stream",
     "text": [
      "This is a Child class method\n"
     ]
    }
   ],
   "source": [
    "obj.display()        # So here it gives the Priority to the Child class, that means it \"overrides\" the Parent class method."
   ]
  },
  {
   "cell_type": "raw",
   "id": "126e57e9-4768-4425-a3cf-8b076afe3967",
   "metadata": {},
   "source": [
    "\n",
    "so to avoid this overriding, we can use a \"super\" keyword in the child class.\n",
    "\n",
    "\"Super\" keyword is used in object-oriented programming (OOP) to call a method from a parent or superclass within a subclass.\n",
    "It allows you to invoke a method or access an attribute defined in the parent class, even if the subclass has overridden or shadowed that method or attribute.\n"
   ]
  },
  {
   "cell_type": "code",
   "execution_count": 71,
   "id": "7223c943-5ffc-4816-9341-99341c0abf71",
   "metadata": {},
   "outputs": [],
   "source": [
    "class A:\n",
    "    def display(self):\n",
    "        print(\"This is a Parent class method\")\n",
    "\n",
    "class B(A):\n",
    "    def display(self):\n",
    "        super().display()\n",
    "        print(\"This is a Child class method\")"
   ]
  },
  {
   "cell_type": "code",
   "execution_count": 72,
   "id": "2964db6b-e837-47bd-9b0c-b53d5ddee3e3",
   "metadata": {},
   "outputs": [],
   "source": [
    "obj = B()"
   ]
  },
  {
   "cell_type": "code",
   "execution_count": 73,
   "id": "0f1c1497-887f-4bdf-9cd5-b2a95c31cbcb",
   "metadata": {},
   "outputs": [
    {
     "name": "stdout",
     "output_type": "stream",
     "text": [
      "This is a Parent class method\n",
      "This is a Child class method\n"
     ]
    }
   ],
   "source": [
    "obj.display()"
   ]
  },
  {
   "cell_type": "code",
   "execution_count": null,
   "id": "1530f691-c6b8-414b-a8a1-d25c8f08de45",
   "metadata": {},
   "outputs": [],
   "source": []
  },
  {
   "cell_type": "code",
   "execution_count": null,
   "id": "efeea2f7-64d8-4b53-8116-3d58aa2d48cd",
   "metadata": {},
   "outputs": [],
   "source": []
  },
  {
   "cell_type": "code",
   "execution_count": null,
   "id": "5fa71bba-02b0-44d1-96ac-4400e2db4d65",
   "metadata": {},
   "outputs": [],
   "source": []
  }
 ],
 "metadata": {
  "kernelspec": {
   "display_name": "Python 3 (ipykernel)",
   "language": "python",
   "name": "python3"
  },
  "language_info": {
   "codemirror_mode": {
    "name": "ipython",
    "version": 3
   },
   "file_extension": ".py",
   "mimetype": "text/x-python",
   "name": "python",
   "nbconvert_exporter": "python",
   "pygments_lexer": "ipython3",
   "version": "3.11.5"
  }
 },
 "nbformat": 4,
 "nbformat_minor": 5
}
