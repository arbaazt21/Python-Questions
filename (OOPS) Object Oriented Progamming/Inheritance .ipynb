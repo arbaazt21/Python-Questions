{
 "cells": [
  {
   "cell_type": "code",
   "execution_count": 1,
   "id": "bb677d45-42cb-4698-87dd-6d9baa605899",
   "metadata": {},
   "outputs": [],
   "source": [
    "class company:\n",
    "    def __init__(self, employeeID, employeeRATING):\n",
    "        self.employeeID = employeeID\n",
    "        self.employeeRATING = employeeRATING    # Public  \n",
    "        self._gmail = \"arbaazt2002@gmail.com\"   # Protected\n",
    "        self.__bonusratingA = \"70%\"             # Private\n",
    "        self.__bonusratingB = \"60%\"\n",
    "        self.__bonusratingC = \"50%\"\n",
    "\n",
    "    def calculator(self):\n",
    "        if self.employeeRATING == \"A\":\n",
    "            bonus = self.__bonusratingA\n",
    "            return bonus\n",
    "        elif self.employeeRATING == \"B\":\n",
    "            bonus = self.__bonusratingB\n",
    "            return bonus\n",
    "\n",
    "        else:\n",
    "            bonus = self.__bonusratingC\n",
    "            return bonus\n",
    "            \n",
    "        "
   ]
  },
  {
   "cell_type": "code",
   "execution_count": 2,
   "id": "958a0d20-5d92-4429-accc-8eecb4f79991",
   "metadata": {},
   "outputs": [],
   "source": [
    "x = company(100,\"B\")"
   ]
  },
  {
   "cell_type": "code",
   "execution_count": 3,
   "id": "f65ea50b-dae5-4ee6-816e-bb5e00668a93",
   "metadata": {},
   "outputs": [
    {
     "data": {
      "text/plain": [
       "'60%'"
      ]
     },
     "execution_count": 3,
     "metadata": {},
     "output_type": "execute_result"
    }
   ],
   "source": [
    "x.calculator()"
   ]
  },
  {
   "cell_type": "code",
   "execution_count": null,
   "id": "90b29740-4ed3-474d-b095-c8d0e66b956b",
   "metadata": {},
   "outputs": [],
   "source": []
  },
  {
   "cell_type": "code",
   "execution_count": null,
   "id": "cca359e3-7e89-487e-afdd-295a1ec4dda9",
   "metadata": {},
   "outputs": [],
   "source": []
  },
  {
   "cell_type": "code",
   "execution_count": 18,
   "id": "88afda2b-199d-4fa8-b6c3-c3760a6ca6ac",
   "metadata": {},
   "outputs": [],
   "source": [
    "class Employee:                                  # Parent Class\n",
    "    def __init__(self, name, id):   # __init__ is known as the constructor\n",
    "        self.name = name\n",
    "        self.id = id\n",
    "\n",
    "    def show_details(self):\n",
    "        print(\"The Employee name is -\",self.name,\"and Employee id is -\",self.id)\n",
    "\n",
    "\n",
    "class Programmer(Employee):                      # Child Class\n",
    "    def show_language(self):\n",
    "        print(\"I prefer Python Language!\")"
   ]
  },
  {
   "cell_type": "code",
   "execution_count": 19,
   "id": "93b2e633-4b90-4a2d-aebc-7beb3082bd27",
   "metadata": {},
   "outputs": [],
   "source": [
    "e1 = Employee(\"John\", 112)"
   ]
  },
  {
   "cell_type": "code",
   "execution_count": 20,
   "id": "d8803831-0f19-41c3-a27c-3e2a5e0e0683",
   "metadata": {},
   "outputs": [
    {
     "data": {
      "text/plain": [
       "'John'"
      ]
     },
     "execution_count": 20,
     "metadata": {},
     "output_type": "execute_result"
    }
   ],
   "source": [
    "e1.name"
   ]
  },
  {
   "cell_type": "code",
   "execution_count": 21,
   "id": "9f0247b3-dd0e-4ac7-92bb-b307e97fb69d",
   "metadata": {},
   "outputs": [
    {
     "name": "stdout",
     "output_type": "stream",
     "text": [
      "The Employee name is - John and Employee id is - 112\n"
     ]
    }
   ],
   "source": [
    "e1.show_details()"
   ]
  },
  {
   "cell_type": "code",
   "execution_count": null,
   "id": "18ef6dcd-f613-4d4d-8970-3fe378345120",
   "metadata": {},
   "outputs": [],
   "source": []
  },
  {
   "cell_type": "code",
   "execution_count": 22,
   "id": "7660af3d-653b-42e2-be37-0dd4975350d2",
   "metadata": {},
   "outputs": [],
   "source": [
    "e1 = Programmer(\"Ronaldo\", 201)"
   ]
  },
  {
   "cell_type": "code",
   "execution_count": 23,
   "id": "ae0756e3-8f06-45d0-bc9d-f2c6c3215a4e",
   "metadata": {},
   "outputs": [
    {
     "name": "stdout",
     "output_type": "stream",
     "text": [
      "The Employee name is - Ronaldo and Employee id is - 201\n"
     ]
    }
   ],
   "source": [
    "e1.show_details()"
   ]
  },
  {
   "cell_type": "code",
   "execution_count": 24,
   "id": "6dccc462-7021-4c44-b947-3b0725ca706e",
   "metadata": {},
   "outputs": [
    {
     "name": "stdout",
     "output_type": "stream",
     "text": [
      "I prefer Python Language!\n"
     ]
    }
   ],
   "source": [
    "e1.show_language()"
   ]
  },
  {
   "cell_type": "code",
   "execution_count": null,
   "id": "1c118995-d411-4d17-8966-45caf7b302f9",
   "metadata": {},
   "outputs": [],
   "source": []
  },
  {
   "cell_type": "code",
   "execution_count": null,
   "id": "db5aa3a6-def2-43a6-8385-c2ddcbe624ab",
   "metadata": {},
   "outputs": [],
   "source": []
  },
  {
   "cell_type": "code",
   "execution_count": null,
   "id": "f7179a44-0bfc-42fb-9ee1-71e6ff49e42b",
   "metadata": {},
   "outputs": [],
   "source": []
  },
  {
   "cell_type": "markdown",
   "id": "38054375-dd41-4934-813e-f3b006e372c0",
   "metadata": {},
   "source": [
    "## Public  Protected  Private"
   ]
  },
  {
   "cell_type": "code",
   "execution_count": 39,
   "id": "4906b637-f8bb-4758-8abf-123ac77b0eaf",
   "metadata": {},
   "outputs": [],
   "source": [
    "class xyz:\n",
    "    def __init__(self, a, b, c):\n",
    "        self.a = a                     # PUBLIC\n",
    "        self._b = b                    # PROTECTED\n",
    "        self.__c = c                   # PRIVATE        "
   ]
  },
  {
   "cell_type": "code",
   "execution_count": 40,
   "id": "bd1e2370-8525-4e73-b19b-9386b9b16e31",
   "metadata": {},
   "outputs": [],
   "source": [
    "k = xyz(10,20,30)"
   ]
  },
  {
   "cell_type": "code",
   "execution_count": 41,
   "id": "95fc76df-b2c2-43a9-ab26-b8530d09833a",
   "metadata": {},
   "outputs": [
    {
     "data": {
      "text/plain": [
       "10"
      ]
     },
     "execution_count": 41,
     "metadata": {},
     "output_type": "execute_result"
    }
   ],
   "source": [
    "k.a"
   ]
  },
  {
   "cell_type": "code",
   "execution_count": 42,
   "id": "d341a911-7952-4942-ba34-cdc8694f78dd",
   "metadata": {},
   "outputs": [
    {
     "data": {
      "text/plain": [
       "20"
      ]
     },
     "execution_count": 42,
     "metadata": {},
     "output_type": "execute_result"
    }
   ],
   "source": [
    "k._b"
   ]
  },
  {
   "cell_type": "code",
   "execution_count": 44,
   "id": "7424eb76-8286-4f85-b077-7f543784a488",
   "metadata": {},
   "outputs": [
    {
     "data": {
      "text/plain": [
       "30"
      ]
     },
     "execution_count": 44,
     "metadata": {},
     "output_type": "execute_result"
    }
   ],
   "source": [
    "k._xyz__c                       # (Name Mangling is done to access the file)"
   ]
  },
  {
   "cell_type": "code",
   "execution_count": null,
   "id": "f479fab5-1d2e-4275-a35b-723c15d893a8",
   "metadata": {},
   "outputs": [],
   "source": []
  },
  {
   "cell_type": "code",
   "execution_count": null,
   "id": "8f9eaa69-59f2-49ce-a2b9-099f6d4fabd1",
   "metadata": {},
   "outputs": [],
   "source": []
  },
  {
   "cell_type": "code",
   "execution_count": 5,
   "id": "0e630e1d-86aa-4195-afe4-c48b3aa218d1",
   "metadata": {},
   "outputs": [],
   "source": [
    "class Car:\n",
    "    def __init__(self, model, price ):\n",
    "        self.model = model\n",
    "        self.price = price\n",
    "\n",
    "    def showDetails(self):\n",
    "        print(self.model)\n",
    "        print(self.price)"
   ]
  },
  {
   "cell_type": "code",
   "execution_count": 6,
   "id": "fdaad4bd-9274-45b2-86ce-376e131cf312",
   "metadata": {},
   "outputs": [],
   "source": [
    "Audi = Car(\"R8\", 2000000)"
   ]
  },
  {
   "cell_type": "code",
   "execution_count": 7,
   "id": "12a3e250-cadc-4325-92cd-bf3c7c2403db",
   "metadata": {},
   "outputs": [
    {
     "name": "stdout",
     "output_type": "stream",
     "text": [
      "R8\n",
      "2000000\n"
     ]
    }
   ],
   "source": [
    "Audi.showDetails()"
   ]
  },
  {
   "cell_type": "code",
   "execution_count": null,
   "id": "be9f63cf-11ae-4a19-8329-e0b394e90677",
   "metadata": {},
   "outputs": [],
   "source": []
  },
  {
   "cell_type": "code",
   "execution_count": null,
   "id": "8cb252d1-de95-4685-a6ab-28d3e818399e",
   "metadata": {},
   "outputs": [],
   "source": []
  },
  {
   "cell_type": "markdown",
   "id": "af55b24f-3d2a-4368-9a93-f61e51320123",
   "metadata": {},
   "source": [
    "## TYPES OF INHERITANCE"
   ]
  },
  {
   "cell_type": "markdown",
   "id": "082a93b0-4f71-4bf0-bbd6-da90bf2d0b35",
   "metadata": {},
   "source": [
    "### Single Inheritance"
   ]
  },
  {
   "cell_type": "code",
   "execution_count": 73,
   "id": "f6ecd0b7-b9cb-4e11-ac47-95a366d4a1d4",
   "metadata": {},
   "outputs": [],
   "source": [
    "class A:\n",
    "    def displayA(self):\n",
    "        print(\"Welcome to Inheritance A\")\n",
    "\n",
    "class B(A):                                              # Single Inheritance\n",
    "    def displayB(self):\n",
    "        print(\"Welcome to Inheritance B\")"
   ]
  },
  {
   "cell_type": "code",
   "execution_count": 44,
   "id": "7d44902d-febb-4ca6-ace9-7cbfd170f60a",
   "metadata": {},
   "outputs": [],
   "source": [
    "obj = B()"
   ]
  },
  {
   "cell_type": "code",
   "execution_count": 54,
   "id": "5400a3c8-fbe0-42f2-8248-e9dd2ca7c101",
   "metadata": {},
   "outputs": [
    {
     "name": "stdout",
     "output_type": "stream",
     "text": [
      "Welcome to Inheritance A\n"
     ]
    }
   ],
   "source": [
    "obj.displayA()"
   ]
  },
  {
   "cell_type": "code",
   "execution_count": 55,
   "id": "b16e3d2b-3e80-4d25-9379-4af36e778ac7",
   "metadata": {},
   "outputs": [
    {
     "name": "stdout",
     "output_type": "stream",
     "text": [
      "Welcome to Inheritance B\n"
     ]
    }
   ],
   "source": [
    "obj.displayB()"
   ]
  },
  {
   "cell_type": "code",
   "execution_count": null,
   "id": "06bb90f6-e0d8-4c05-86bd-5d75bb01e485",
   "metadata": {},
   "outputs": [],
   "source": []
  },
  {
   "cell_type": "markdown",
   "id": "cdca6923-af9d-4ed3-bf7f-a06c8aa27c00",
   "metadata": {},
   "source": [
    "### Multilevel Inheritance"
   ]
  },
  {
   "cell_type": "code",
   "execution_count": 56,
   "id": "6fbdae1a-0f05-495a-8adb-a4b38b16869d",
   "metadata": {},
   "outputs": [],
   "source": [
    "class A:\n",
    "    def displayA(self):\n",
    "        print(\"Welcome to Inheritance A\")\n",
    "\n",
    "class B(A):\n",
    "    def displayB(self):\n",
    "        print(\"Welcome to Inheritance B\")\n",
    "        \n",
    "class C(B):                                          # Multilevel Inheritance\n",
    "    def displayC(self):\n",
    "        print(\"Welcome to Inheritance C\")"
   ]
  },
  {
   "cell_type": "code",
   "execution_count": 57,
   "id": "1a7f7ac7-7705-40a3-b553-efa3b1f4bdf4",
   "metadata": {},
   "outputs": [],
   "source": [
    "obj = C()"
   ]
  },
  {
   "cell_type": "code",
   "execution_count": 58,
   "id": "56b990e1-9321-43d8-bf45-be68a0bd87aa",
   "metadata": {},
   "outputs": [
    {
     "name": "stdout",
     "output_type": "stream",
     "text": [
      "Welcome to Inheritance A\n"
     ]
    }
   ],
   "source": [
    "obj.displayA()"
   ]
  },
  {
   "cell_type": "code",
   "execution_count": 59,
   "id": "b3dc77c9-108c-4a0f-a6c0-645dbb50ee45",
   "metadata": {},
   "outputs": [
    {
     "name": "stdout",
     "output_type": "stream",
     "text": [
      "Welcome to Inheritance B\n"
     ]
    }
   ],
   "source": [
    "obj.displayB()"
   ]
  },
  {
   "cell_type": "code",
   "execution_count": 60,
   "id": "dc987bee-c087-4ced-9d1f-78ca570341ae",
   "metadata": {},
   "outputs": [
    {
     "name": "stdout",
     "output_type": "stream",
     "text": [
      "Welcome to Inheritance C\n"
     ]
    }
   ],
   "source": [
    "obj.displayC()"
   ]
  },
  {
   "cell_type": "code",
   "execution_count": null,
   "id": "524d3072-1605-4e2c-8b18-047041fb651d",
   "metadata": {},
   "outputs": [],
   "source": []
  },
  {
   "cell_type": "markdown",
   "id": "e52b0f43-a415-46d1-b591-8ee073c68c5f",
   "metadata": {},
   "source": [
    "### Multiple Inheritance"
   ]
  },
  {
   "cell_type": "code",
   "execution_count": 68,
   "id": "3f59cae1-59bb-4e89-b5ce-9602dbe75973",
   "metadata": {},
   "outputs": [],
   "source": [
    "class A:\n",
    "    def displayA(self):\n",
    "        print(\"Welcome to Inheritance A\")\n",
    "\n",
    "class B:\n",
    "    def displayB(self):\n",
    "        print(\"Welcome to Inheritance B\")\n",
    "        \n",
    "class C(A,B):                                          # Multiple Inheritance\n",
    "    def displayC(self):\n",
    "        print(\"Welcome to Inheritance C\")"
   ]
  },
  {
   "cell_type": "code",
   "execution_count": 69,
   "id": "3a79f546-f5a4-42e0-9f13-f30ae27e6749",
   "metadata": {},
   "outputs": [],
   "source": [
    "obj = C()"
   ]
  },
  {
   "cell_type": "code",
   "execution_count": 70,
   "id": "55604e05-945f-4196-9001-24e2c6d27655",
   "metadata": {},
   "outputs": [
    {
     "name": "stdout",
     "output_type": "stream",
     "text": [
      "Welcome to Inheritance A\n"
     ]
    }
   ],
   "source": [
    "obj.displayA()"
   ]
  },
  {
   "cell_type": "code",
   "execution_count": 71,
   "id": "7ac26e00-af8b-446c-934c-522d9d458e91",
   "metadata": {},
   "outputs": [
    {
     "name": "stdout",
     "output_type": "stream",
     "text": [
      "Welcome to Inheritance B\n"
     ]
    }
   ],
   "source": [
    "obj.displayB()"
   ]
  },
  {
   "cell_type": "code",
   "execution_count": 72,
   "id": "25de3911-6ea7-4845-923f-d48c7bbc830e",
   "metadata": {},
   "outputs": [
    {
     "name": "stdout",
     "output_type": "stream",
     "text": [
      "Welcome to Inheritance C\n"
     ]
    }
   ],
   "source": [
    "obj.displayC()"
   ]
  },
  {
   "cell_type": "code",
   "execution_count": null,
   "id": "1323858e-2c92-4f58-b114-9d3a9f4832e9",
   "metadata": {},
   "outputs": [],
   "source": []
  },
  {
   "cell_type": "code",
   "execution_count": null,
   "id": "6d4be71c-df27-4667-a00e-b868cacd4a0f",
   "metadata": {},
   "outputs": [],
   "source": []
  },
  {
   "cell_type": "code",
   "execution_count": 4,
   "id": "88a3548c-170f-4f0b-a210-978492a403de",
   "metadata": {},
   "outputs": [],
   "source": [
    "class Person:\n",
    "    def __init__(self, height, weight, occupation):\n",
    "        self.height = height\n",
    "        self.weight = weight\n",
    "        self.occupation = occupation\n",
    "\n",
    "    def showDetails(self):\n",
    "        print(\"Person is a\",self.occupation)\n",
    "        print(\"His height is - \",self.height)\n",
    "        print(\"His weight is - \",self.weight)\n",
    "        \n",
    "class Child(Person):\n",
    "    def std(self):\n",
    "        print(\"child is in 8th standard\")\n",
    "\n",
    "  "
   ]
  },
  {
   "cell_type": "code",
   "execution_count": 5,
   "id": "73acfbb4-b75a-46d9-b01c-fdf145881fd9",
   "metadata": {},
   "outputs": [],
   "source": [
    "p = Child(\"6.2ft\",\"75kg\",\"Data Scientist\")"
   ]
  },
  {
   "cell_type": "code",
   "execution_count": 6,
   "id": "4b92c6f3-337a-4f23-9eeb-cbe2b174faed",
   "metadata": {},
   "outputs": [
    {
     "name": "stdout",
     "output_type": "stream",
     "text": [
      "child is in 8th standard\n"
     ]
    }
   ],
   "source": [
    "p.std()"
   ]
  },
  {
   "cell_type": "code",
   "execution_count": 7,
   "id": "0585a3bf-36a4-4f1b-a485-907410e715f1",
   "metadata": {},
   "outputs": [
    {
     "data": {
      "text/plain": [
       "'6.2ft'"
      ]
     },
     "execution_count": 7,
     "metadata": {},
     "output_type": "execute_result"
    }
   ],
   "source": [
    "p.height"
   ]
  },
  {
   "cell_type": "code",
   "execution_count": 8,
   "id": "4b12e24d-f2de-4777-8b7c-a0b522a2ffb7",
   "metadata": {},
   "outputs": [
    {
     "data": {
      "text/plain": [
       "'Data Scientist'"
      ]
     },
     "execution_count": 8,
     "metadata": {},
     "output_type": "execute_result"
    }
   ],
   "source": [
    "p.occupation"
   ]
  },
  {
   "cell_type": "code",
   "execution_count": 10,
   "id": "f0debb56-77da-4300-b99d-d886c4c96a38",
   "metadata": {},
   "outputs": [
    {
     "name": "stdout",
     "output_type": "stream",
     "text": [
      "Person is a Data Scientist\n",
      "His height is -  6.2ft\n",
      "His weight is -  75kg\n"
     ]
    }
   ],
   "source": [
    "p.showDetails()"
   ]
  },
  {
   "cell_type": "code",
   "execution_count": null,
   "id": "60c80afa-07da-4933-9336-01d5d7c14bc9",
   "metadata": {},
   "outputs": [],
   "source": []
  },
  {
   "cell_type": "code",
   "execution_count": null,
   "id": "be8a395f-969f-46cc-a6a9-496879070f08",
   "metadata": {},
   "outputs": [],
   "source": []
  },
  {
   "cell_type": "raw",
   "id": "681e81a1-2923-42d0-aa68-beb3fedaff82",
   "metadata": {},
   "source": [
    "Q. Class Inheritance Basics:\n",
    "\n",
    "Create a parent class called Vehicle with attributes color and wheels.\n",
    "Then, create a child class called Car that inherits from Vehicle and has an additional attribute brand.\n",
    "Instantiate a Car object and print its color, number of wheels, and brand."
   ]
  },
  {
   "cell_type": "code",
   "execution_count": 18,
   "id": "042f4c7f-8eb1-4bf1-99b1-2807b3b0078e",
   "metadata": {},
   "outputs": [],
   "source": [
    "class Vehicle:\n",
    "    def __init__(self, color, wheels):\n",
    "        self.color = color\n",
    "        self.wheels = wheels\n",
    "\n",
    "class Car(Vehicle):\n",
    "    def __init__(self, color, wheels, brand):\n",
    "        super().__init__(color, wheels)\n",
    "        self.brand = brand"
   ]
  },
  {
   "cell_type": "code",
   "execution_count": 19,
   "id": "21631c73-cbea-46a2-ad0f-8258043e7918",
   "metadata": {},
   "outputs": [],
   "source": [
    "my_car = Car(\"Black\", 4, \"Mercedes\")"
   ]
  },
  {
   "cell_type": "code",
   "execution_count": 27,
   "id": "06bff910-57ef-4cca-9546-30a2ee0031a8",
   "metadata": {},
   "outputs": [
    {
     "name": "stdout",
     "output_type": "stream",
     "text": [
      "color is - Black\n",
      "no. of wheels - 4\n",
      "brand is - Mercedes\n"
     ]
    }
   ],
   "source": [
    "print(\"color is -\",my_car.color)\n",
    "print(\"no. of wheels -\",my_car.wheels)\n",
    "print(\"brand is -\",my_car.brand)"
   ]
  },
  {
   "cell_type": "code",
   "execution_count": null,
   "id": "eb4c2a2a-96c2-4669-8f4b-d8693910e43d",
   "metadata": {},
   "outputs": [],
   "source": []
  },
  {
   "cell_type": "code",
   "execution_count": null,
   "id": "51249206-36a4-4665-a641-05390caee892",
   "metadata": {},
   "outputs": [],
   "source": []
  },
  {
   "cell_type": "raw",
   "id": "aa7ac223-56e1-4e74-a198-e8beb62a18f7",
   "metadata": {},
   "source": [
    "Q. Person and Student:\n",
    "\n",
    "Create a parent class Person with attributes name and age.\n",
    "Then, create a child class Student that inherits from Person and has an additional attribute student_id.\n",
    "Instantiate a Student object and print their name, age, and student ID."
   ]
  },
  {
   "cell_type": "code",
   "execution_count": 28,
   "id": "043588a7-905c-4e74-bd28-bb08692abf9d",
   "metadata": {},
   "outputs": [],
   "source": [
    "class Person:\n",
    "    def __init__(self, name, age):\n",
    "        self.name = name\n",
    "        self.age = age\n",
    "\n",
    "class Student(Person):\n",
    "    def __init__(self, name, age, student_id):\n",
    "        super().__init__(name, age)\n",
    "        self.student_id = student_id"
   ]
  },
  {
   "cell_type": "code",
   "execution_count": 43,
   "id": "28610064-5006-4197-be91-966a327b5b01",
   "metadata": {},
   "outputs": [],
   "source": [
    "s = Student(\"Dominic\", 21, \"A458\")"
   ]
  },
  {
   "cell_type": "code",
   "execution_count": 44,
   "id": "43ed7067-c712-4ca5-a3ff-f6934f125002",
   "metadata": {},
   "outputs": [
    {
     "name": "stdout",
     "output_type": "stream",
     "text": [
      "Person's Name is -> Dominic\n",
      "Age is -> 21\n",
      "Student_id is -> A458\n"
     ]
    }
   ],
   "source": [
    "print(\"Person's Name is ->\",s.name)\n",
    "print(\"Age is ->\",s.age)\n",
    "print(\"Student_id is ->\",s.student_id)"
   ]
  },
  {
   "cell_type": "code",
   "execution_count": null,
   "id": "2b6a4d67-1b5d-4e32-ba5f-d2817f9f40a5",
   "metadata": {},
   "outputs": [],
   "source": []
  },
  {
   "cell_type": "code",
   "execution_count": null,
   "id": "ca6daae9-3d94-4a87-afd0-f6ae669355d7",
   "metadata": {},
   "outputs": [],
   "source": []
  },
  {
   "cell_type": "raw",
   "id": "73dce43e-1d5b-48f8-a65f-b33140a8c033",
   "metadata": {},
   "source": [
    "Q. Bank Account:\n",
    "\n",
    "Create a parent class Account with attributes account_number and balance.\n",
    "Create a child class SavingsAccount that inherits from Account and has an additional attribute interest_rate.\n",
    "Implement a method calculate_interest() in the SavingsAccount class to calculate and return the interest earned.\n",
    "Instantiate a SavingsAccount object and print its balance and interest earned."
   ]
  },
  {
   "cell_type": "code",
   "execution_count": 57,
   "id": "26ecd46f-91a6-4fb4-a245-77038d58b682",
   "metadata": {},
   "outputs": [],
   "source": [
    "class Account:\n",
    "    def __init__(self, account_no, balance):\n",
    "        self.account_no = account_no\n",
    "        self.balance = balance\n",
    "\n",
    "class SavingsAccount(Account):\n",
    "    def __init__(self, account_no, balance, interest_rate):\n",
    "        super().__init__(account_no, balance)\n",
    "        self.interest_rate = interest_rate\n",
    "\n",
    "    def calculate_interest(self):\n",
    "        interest_earned = self.balance * (self.interest_rate / 100)\n",
    "        return interest_earned"
   ]
  },
  {
   "cell_type": "code",
   "execution_count": 62,
   "id": "2cc3b504-b0d0-4364-ba77-0300bf6d0254",
   "metadata": {},
   "outputs": [],
   "source": [
    "s = SavingsAccount(\"SA38740849048\", 1900000, 1.5)"
   ]
  },
  {
   "cell_type": "code",
   "execution_count": 64,
   "id": "9d8c0f81-f52e-468d-80b6-284491dfeb1a",
   "metadata": {},
   "outputs": [
    {
     "name": "stdout",
     "output_type": "stream",
     "text": [
      "Account_Number - SA38740849048\n",
      "Balance - $ 1900000\n",
      "Interest Rate - 28500.0\n"
     ]
    }
   ],
   "source": [
    "print(\"Account_Number -\",s.account_no)\n",
    "print(\"Balance - $\",s.balance)\n",
    "print(\"Interest Rate -\",s.calculate_interest())"
   ]
  },
  {
   "cell_type": "code",
   "execution_count": null,
   "id": "ce68829d-378e-4938-a8e6-8f9b4dee1ba0",
   "metadata": {},
   "outputs": [],
   "source": []
  },
  {
   "cell_type": "code",
   "execution_count": null,
   "id": "a12fa2d9-7ed2-41e9-99e8-99d2e2872f95",
   "metadata": {},
   "outputs": [],
   "source": []
  },
  {
   "cell_type": "raw",
   "id": "ede1bf48-eeac-45bd-99b6-7eeeb369598a",
   "metadata": {},
   "source": [
    "Q. Animal and Bird:\n",
    "\n",
    "Define a parent class Animal with methods speak() and move().\n",
    "Create a child class Bird that inherits from Animal and has an additional method fly().\n",
    "Implement all the methods and create an instance of Bird to demonstrate its behavior."
   ]
  },
  {
   "cell_type": "code",
   "execution_count": 69,
   "id": "efa5df5e-ab36-45fa-940b-b787a35be427",
   "metadata": {},
   "outputs": [],
   "source": [
    "class Animal:\n",
    "    def speak(self):\n",
    "        pass\n",
    "\n",
    "    def move(self):\n",
    "        pass\n",
    "\n",
    "class Bird(Animal):\n",
    "    def speak(self):\n",
    "        return \"Bird --> chirp chirp!\"\n",
    "\n",
    "    def move(self):\n",
    "        return \"Bird --> Flying Flying!\"\n",
    "\n",
    "    def fly(self):\n",
    "        return \"Bird --> Flapping the Wings...!\""
   ]
  },
  {
   "cell_type": "code",
   "execution_count": 70,
   "id": "1d544a73-54c9-4afd-8dc6-a3f0c222dd80",
   "metadata": {},
   "outputs": [],
   "source": [
    "z = Bird()"
   ]
  },
  {
   "cell_type": "code",
   "execution_count": 72,
   "id": "1ad6f540-a987-4b9a-bd8e-94de529e37e4",
   "metadata": {},
   "outputs": [
    {
     "data": {
      "text/plain": [
       "'Bird --> chirp chirp!'"
      ]
     },
     "execution_count": 72,
     "metadata": {},
     "output_type": "execute_result"
    }
   ],
   "source": [
    "z.speak()"
   ]
  },
  {
   "cell_type": "code",
   "execution_count": 74,
   "id": "300a0afd-750c-4ad2-9963-5b71d61277e9",
   "metadata": {},
   "outputs": [
    {
     "data": {
      "text/plain": [
       "'Bird --> Flapping the Wings...!'"
      ]
     },
     "execution_count": 74,
     "metadata": {},
     "output_type": "execute_result"
    }
   ],
   "source": [
    "z.fly()"
   ]
  },
  {
   "cell_type": "code",
   "execution_count": 76,
   "id": "6dcc4df8-7ac3-4d34-b385-fde2f0181966",
   "metadata": {},
   "outputs": [
    {
     "data": {
      "text/plain": [
       "'Bird --> Flying Flying!'"
      ]
     },
     "execution_count": 76,
     "metadata": {},
     "output_type": "execute_result"
    }
   ],
   "source": [
    "z.move()"
   ]
  },
  {
   "cell_type": "code",
   "execution_count": null,
   "id": "5ba8a702-e018-4f96-9962-d59b9a72f15e",
   "metadata": {},
   "outputs": [],
   "source": []
  },
  {
   "cell_type": "code",
   "execution_count": null,
   "id": "db2a24d8-bd51-480a-b19f-aabab310ddeb",
   "metadata": {},
   "outputs": [],
   "source": []
  },
  {
   "cell_type": "raw",
   "id": "bf4dbe6a-1ee0-43e8-a657-cdedbc983ae9",
   "metadata": {},
   "source": [
    "Q. Library System:\n",
    "\n",
    "Create a class LibraryItem with attributes title and author.\n",
    "Then, create a child class Book that inherits from LibraryItem and has an additional attribute isbn.\n",
    "Create another child class DVD that inherits from LibraryItem and has an additional attribute runtime.\n",
    "Instantiate objects of both Book and DVD and print their details."
   ]
  },
  {
   "cell_type": "code",
   "execution_count": 85,
   "id": "af3a306a-45aa-4809-9512-c849f75d2f98",
   "metadata": {},
   "outputs": [],
   "source": [
    "class LibraryItem:\n",
    "    def __init__(self, title, author):\n",
    "        self.title = title\n",
    "        self.author = author\n",
    "\n",
    "class Book(LibraryItem):\n",
    "    def __init__(self, title, author ,isbn):\n",
    "        super().__init__(title, author)\n",
    "        self.isbn = isbn\n",
    "\n",
    "class DVD(LibraryItem):\n",
    "    def __init__(self, title, author, runtime):\n",
    "        super().__init__( title, author)\n",
    "        self.runtime = runtime"
   ]
  },
  {
   "cell_type": "code",
   "execution_count": 86,
   "id": "e96d8eeb-3608-4a10-b132-2c0469f0a8fb",
   "metadata": {},
   "outputs": [],
   "source": [
    "b = Book(\"The Secret\",\"Rhonda Byrne\",\"82379824182\")\n",
    "d = DVD(\"Inception\", \"Christopher Nolan\", \"2 hours 28 minutes\")"
   ]
  },
  {
   "cell_type": "code",
   "execution_count": 92,
   "id": "864f2b30-a0ce-433f-b381-701c264a3836",
   "metadata": {},
   "outputs": [
    {
     "name": "stdout",
     "output_type": "stream",
     "text": [
      "Book Details ---->\n",
      "Title: The Secret\n",
      "Author: Rhonda Byrne\n",
      "ISBN: 82379824182\n"
     ]
    }
   ],
   "source": [
    "print(\"Book Details ---->\")\n",
    "print(\"Title:\",b.title)\n",
    "print(\"Author:\",b.author)\n",
    "print(\"ISBN:\",b.isbn)"
   ]
  },
  {
   "cell_type": "code",
   "execution_count": 93,
   "id": "691b34a0-f441-404c-b6e0-e31e47ad0a62",
   "metadata": {},
   "outputs": [
    {
     "name": "stdout",
     "output_type": "stream",
     "text": [
      "DVD Details ---->\n",
      "Title: Inception\n",
      "Author: Christopher Nolan\n",
      "Runtime: 2 hours 28 minutes\n"
     ]
    }
   ],
   "source": [
    "print(\"DVD Details ---->\")\n",
    "print(\"Title:\",d.title)\n",
    "print(\"Author:\",d.author)\n",
    "print(\"Runtime:\",d.runtime)"
   ]
  },
  {
   "cell_type": "code",
   "execution_count": null,
   "id": "4cff4b53-e4e8-4bf0-b179-4fe6a5a45433",
   "metadata": {},
   "outputs": [],
   "source": []
  },
  {
   "cell_type": "code",
   "execution_count": null,
   "id": "5937ed30-4bbd-45a1-80db-e567b6ebf5fc",
   "metadata": {},
   "outputs": [],
   "source": []
  },
  {
   "cell_type": "raw",
   "id": "108045c6-f605-45be-ae6b-c70db4289e58",
   "metadata": {},
   "source": [
    "Q. Create a class called \"Vehicle\" with attributes like make, model, and year.\n",
    "Then, create a subclass called \"Car\" that inherits from \"Vehicle\" and add an additional attribute \"fuel_type\".\n",
    "Override the __str__ method in both classes to display their details."
   ]
  },
  {
   "cell_type": "code",
   "execution_count": 51,
   "id": "9bf9aef2-c87f-45d3-bfd2-e57b38edfc90",
   "metadata": {},
   "outputs": [],
   "source": [
    "class Vehicle:\n",
    "    def __init__(self, model, year):\n",
    "        self.model = model\n",
    "        self.year = year\n",
    "        \n",
    "    def __str__(self):\n",
    "        return f\"Model of Vehicle = {self.model}, Year of Vehicle = {self.year}\"\n",
    "        \n",
    "\n",
    "class Car(Vehicle):\n",
    "    def __init__(self, model, year, fuel_type):\n",
    "        self.fuel_type = fuel_type\n",
    "        super().__init__(model, year)\n",
    "        \n",
    "    def __str__(self):\n",
    "        super().__str__()\n",
    "        return f\"Model of Vehicle = {self.model}, Year of Vehicle = {self.year}, Fuel_Type = {self.fuel_type}\""
   ]
  },
  {
   "cell_type": "code",
   "execution_count": 52,
   "id": "c31d926d-d6cc-4355-a216-10ca2f6c8481",
   "metadata": {},
   "outputs": [],
   "source": [
    "v = Vehicle(\"latest\",2002)\n",
    "c = Car(\"old\",1978,\"Diesel\")"
   ]
  },
  {
   "cell_type": "code",
   "execution_count": 53,
   "id": "a901acdb-dd27-4676-bf75-748b7f22fb76",
   "metadata": {},
   "outputs": [
    {
     "name": "stdout",
     "output_type": "stream",
     "text": [
      "Model of Vehicle = latest, Year of Vehicle = 2002\n",
      "Model of Vehicle = old, Year of Vehicle = 1978, Fuel_Type = Diesel\n"
     ]
    }
   ],
   "source": [
    "print(v)\n",
    "print(c)"
   ]
  },
  {
   "cell_type": "code",
   "execution_count": null,
   "id": "a9c21a26-6338-473a-886b-ddf24a6b545d",
   "metadata": {},
   "outputs": [],
   "source": []
  },
  {
   "cell_type": "code",
   "execution_count": null,
   "id": "29425cd2-bf62-4f94-9d99-e8d83da6e1a9",
   "metadata": {},
   "outputs": [],
   "source": []
  },
  {
   "cell_type": "code",
   "execution_count": null,
   "id": "6e732468-a313-4c03-8831-f19ed12246b2",
   "metadata": {},
   "outputs": [],
   "source": []
  }
 ],
 "metadata": {
  "kernelspec": {
   "display_name": "Python 3 (ipykernel)",
   "language": "python",
   "name": "python3"
  },
  "language_info": {
   "codemirror_mode": {
    "name": "ipython",
    "version": 3
   },
   "file_extension": ".py",
   "mimetype": "text/x-python",
   "name": "python",
   "nbconvert_exporter": "python",
   "pygments_lexer": "ipython3",
   "version": "3.11.5"
  }
 },
 "nbformat": 4,
 "nbformat_minor": 5
}
