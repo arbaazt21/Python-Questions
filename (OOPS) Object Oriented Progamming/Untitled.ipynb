{
 "cells": [
  {
   "cell_type": "markdown",
   "id": "437e067e",
   "metadata": {},
   "source": [
    "# Classes"
   ]
  },
  {
   "cell_type": "code",
   "execution_count": 1,
   "id": "0ee28d98",
   "metadata": {},
   "outputs": [],
   "source": [
    "# Class and Object Creation:\n",
    "# Write a Python class called Car with attributes make and model.\n",
    "# Create an instance of the class and set its make and model attributes.\n",
    "# Then, print out the values of those attributes."
   ]
  },
  {
   "cell_type": "code",
   "execution_count": 2,
   "id": "b204bdf5",
   "metadata": {},
   "outputs": [],
   "source": [
    "class Car:\n",
    "    def __init__(self, make, model):\n",
    "        self.make = make\n",
    "        self.model = model"
   ]
  },
  {
   "cell_type": "code",
   "execution_count": 6,
   "id": "0d64aa34",
   "metadata": {},
   "outputs": [],
   "source": [
    "my_car = Car(2002,\"Audi A9\")"
   ]
  },
  {
   "cell_type": "code",
   "execution_count": 7,
   "id": "2c319944",
   "metadata": {},
   "outputs": [
    {
     "data": {
      "text/plain": [
       "2002"
      ]
     },
     "execution_count": 7,
     "metadata": {},
     "output_type": "execute_result"
    }
   ],
   "source": [
    "my_car.make"
   ]
  },
  {
   "cell_type": "code",
   "execution_count": 8,
   "id": "f07fa508",
   "metadata": {},
   "outputs": [
    {
     "data": {
      "text/plain": [
       "'Audi A9'"
      ]
     },
     "execution_count": 8,
     "metadata": {},
     "output_type": "execute_result"
    }
   ],
   "source": [
    "my_car.model"
   ]
  },
  {
   "cell_type": "code",
   "execution_count": null,
   "id": "c8d62629",
   "metadata": {},
   "outputs": [],
   "source": []
  },
  {
   "cell_type": "code",
   "execution_count": 9,
   "id": "34d21d0c",
   "metadata": {},
   "outputs": [],
   "source": [
    "# Method Creation:\n",
    "# Add a method to the Car class called start_engine that prints \"Engine started!\" when called.\n",
    "# Create an instance of the Car class and call the start_engine method."
   ]
  },
  {
   "cell_type": "code",
   "execution_count": 10,
   "id": "c54b40e6",
   "metadata": {},
   "outputs": [],
   "source": [
    "def start_engine(self):\n",
    "    print(\"Engine Started!!\")"
   ]
  },
  {
   "cell_type": "code",
   "execution_count": 13,
   "id": "611614bb",
   "metadata": {},
   "outputs": [
    {
     "ename": "AttributeError",
     "evalue": "'Car' object has no attribute 'start_engine'",
     "output_type": "error",
     "traceback": [
      "\u001b[1;31m---------------------------------------------------------------------------\u001b[0m",
      "\u001b[1;31mAttributeError\u001b[0m                            Traceback (most recent call last)",
      "Cell \u001b[1;32mIn[13], line 1\u001b[0m\n\u001b[1;32m----> 1\u001b[0m my_car\u001b[38;5;241m.\u001b[39mstart_engine()\n",
      "\u001b[1;31mAttributeError\u001b[0m: 'Car' object has no attribute 'start_engine'"
     ]
    }
   ],
   "source": [
    "my_car.start_engine()"
   ]
  },
  {
   "cell_type": "code",
   "execution_count": null,
   "id": "d4b15912",
   "metadata": {},
   "outputs": [],
   "source": []
  }
 ],
 "metadata": {
  "kernelspec": {
   "display_name": "Python 3 (ipykernel)",
   "language": "python",
   "name": "python3"
  },
  "language_info": {
   "codemirror_mode": {
    "name": "ipython",
    "version": 3
   },
   "file_extension": ".py",
   "mimetype": "text/x-python",
   "name": "python",
   "nbconvert_exporter": "python",
   "pygments_lexer": "ipython3",
   "version": "3.11.5"
  }
 },
 "nbformat": 4,
 "nbformat_minor": 5
}
