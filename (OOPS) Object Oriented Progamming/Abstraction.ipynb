{
 "cells": [
  {
   "cell_type": "markdown",
   "id": "f8fa8961-ab7a-44b1-a175-d3d05d37d798",
   "metadata": {},
   "source": [
    "# Abstraction"
   ]
  },
  {
   "cell_type": "raw",
   "id": "ca02bbfd-5eb3-4ca2-87fe-8d3b5990421b",
   "metadata": {},
   "source": [
    "Abstraction is defined as a process of handling complexity by hiding unnecessary information from the user."
   ]
  },
  {
   "cell_type": "code",
   "execution_count": null,
   "id": "93e792b0-584b-4817-b649-4f20e4a58868",
   "metadata": {},
   "outputs": [],
   "source": []
  },
  {
   "cell_type": "code",
   "execution_count": 2,
   "id": "047b129f-c40b-4823-8af3-37c7f40b4f74",
   "metadata": {},
   "outputs": [],
   "source": [
    "from abc import ABC, abstractmethod\n",
    "\n",
    "class BankApp(ABC):\n",
    "    def database(self):\n",
    "        print(\"Connected to Database!\")\n",
    "\n",
    "    @abstractmethod             # this is an Abstract_method, and (it doesn't contain any code).\n",
    "    def security(self):\n",
    "        pass\n",
    "# Till here, it's an (Abstract Class)\n",
    "\n",
    "\n",
    "class MobileApp(BankApp):\n",
    "    def mobile_login(self):\n",
    "        print(\"login into the mobile\")\n",
    "\n",
    "    def security(self):             # this abstract_method is compulsory to be written, if it is not created, then the Error occurs.\n",
    "        print(\"Mobile Security\")\n",
    "        \n",
    "        "
   ]
  },
  {
   "cell_type": "code",
   "execution_count": 3,
   "id": "5de13586-8253-468c-a87d-cc5ebd450842",
   "metadata": {},
   "outputs": [],
   "source": [
    "mob = MobileApp()"
   ]
  },
  {
   "cell_type": "code",
   "execution_count": 4,
   "id": "cd16195f-e861-45d4-9677-b983536841ab",
   "metadata": {},
   "outputs": [
    {
     "name": "stdout",
     "output_type": "stream",
     "text": [
      "Connected to Database!\n"
     ]
    }
   ],
   "source": [
    "mob.database()"
   ]
  },
  {
   "cell_type": "code",
   "execution_count": 5,
   "id": "34ed634a-d7de-4eef-a629-200fcf17ff83",
   "metadata": {},
   "outputs": [
    {
     "name": "stdout",
     "output_type": "stream",
     "text": [
      "login into the mobile\n"
     ]
    }
   ],
   "source": [
    "mob.mobile_login()"
   ]
  },
  {
   "cell_type": "code",
   "execution_count": 7,
   "id": "3686d872-11eb-4ca5-a53a-5be79c4273f4",
   "metadata": {},
   "outputs": [
    {
     "name": "stdout",
     "output_type": "stream",
     "text": [
      "Mobile Security\n"
     ]
    }
   ],
   "source": [
    "mob.security()"
   ]
  },
  {
   "cell_type": "code",
   "execution_count": null,
   "id": "a50ee380-c5ea-4dfd-9ac2-af6601d2e3f0",
   "metadata": {},
   "outputs": [],
   "source": []
  },
  {
   "cell_type": "code",
   "execution_count": null,
   "id": "a3b37a32-ff66-4003-add0-3551a9282aee",
   "metadata": {},
   "outputs": [],
   "source": []
  }
 ],
 "metadata": {
  "kernelspec": {
   "display_name": "Python 3 (ipykernel)",
   "language": "python",
   "name": "python3"
  },
  "language_info": {
   "codemirror_mode": {
    "name": "ipython",
    "version": 3
   },
   "file_extension": ".py",
   "mimetype": "text/x-python",
   "name": "python",
   "nbconvert_exporter": "python",
   "pygments_lexer": "ipython3",
   "version": "3.11.5"
  }
 },
 "nbformat": 4,
 "nbformat_minor": 5
}
