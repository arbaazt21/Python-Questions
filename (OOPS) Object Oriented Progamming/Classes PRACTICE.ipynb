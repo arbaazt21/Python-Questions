{
 "cells": [
  {
   "cell_type": "raw",
   "id": "bbdf43ec-2487-4393-ac33-8b43878da76e",
   "metadata": {},
   "source": []
  },
  {
   "cell_type": "code",
   "execution_count": 45,
   "id": "8941dfec-9ccf-44c2-a7d4-422b597a76fa",
   "metadata": {},
   "outputs": [],
   "source": [
    "# Class and Object Creation:\n",
    "# Write a Python class called Car with attributes make and model.\n",
    "# Create an instance of the class and set its make and model attributes.\n",
    "# Then, print out the values of those attributes.\n",
    "\n",
    "\n",
    "class Car:\n",
    "    def __init__(self, make, model):\n",
    "        self.make = make\n",
    "        self.model = model"
   ]
  },
  {
   "cell_type": "code",
   "execution_count": 22,
   "id": "6a63fb3a-5b48-4856-827c-bea4db5d9939",
   "metadata": {},
   "outputs": [],
   "source": [
    "my_car = Car(1999,\"A8\")"
   ]
  },
  {
   "cell_type": "code",
   "execution_count": 23,
   "id": "e4fd246a-3ae0-4ab9-b9b7-6ea3ce58cbb2",
   "metadata": {},
   "outputs": [
    {
     "data": {
      "text/plain": [
       "1999"
      ]
     },
     "execution_count": 23,
     "metadata": {},
     "output_type": "execute_result"
    }
   ],
   "source": [
    "my_car.make"
   ]
  },
  {
   "cell_type": "code",
   "execution_count": 24,
   "id": "c64c5dc7-a2cb-4e8f-8449-18116ca4b3cb",
   "metadata": {},
   "outputs": [
    {
     "data": {
      "text/plain": [
       "'A8'"
      ]
     },
     "execution_count": 24,
     "metadata": {},
     "output_type": "execute_result"
    }
   ],
   "source": [
    "my_car.model"
   ]
  },
  {
   "cell_type": "code",
   "execution_count": null,
   "id": "5e310134-8ee5-4e7f-b165-a59dc6ae172e",
   "metadata": {},
   "outputs": [],
   "source": []
  },
  {
   "cell_type": "code",
   "execution_count": 1,
   "id": "4956d927-8397-4913-8fd1-859e52538e47",
   "metadata": {},
   "outputs": [],
   "source": [
    "# Method Creation:\n",
    "# Add a method to the Car class called start_engine that prints \"Engine started!\" when called.\n",
    "# Create an instance of the Car class and call the start_engine method.\n",
    "\n",
    "\n",
    "def start_engine(self):\n",
    "    print(\"Engine started!\")"
   ]
  },
  {
   "cell_type": "code",
   "execution_count": 52,
   "id": "b989e874-a5e8-436d-8adc-2f3ef1950385",
   "metadata": {},
   "outputs": [
    {
     "name": "stdout",
     "output_type": "stream",
     "text": [
      "Engine started!\n"
     ]
    }
   ],
   "source": [
    "my_car.start_engine()"
   ]
  },
  {
   "cell_type": "code",
   "execution_count": null,
   "id": "4fb58b6d-81ed-4974-8539-e48e2f80f6ad",
   "metadata": {},
   "outputs": [],
   "source": []
  },
  {
   "cell_type": "code",
   "execution_count": 30,
   "id": "60b17b56-f28f-41e9-a06e-bbf75ad10953",
   "metadata": {},
   "outputs": [],
   "source": [
    "# Constructor:\n",
    "# Modify the Car class to include a constructor that accepts make and model as parameters and sets the attributes accordingly.\n",
    "# Create a new instance of Car using the constructor.\n",
    "\n",
    "my_car1 = Car(2002, \"Latest\")"
   ]
  },
  {
   "cell_type": "code",
   "execution_count": 27,
   "id": "050ad392-3cda-477f-a3f8-0ac9cb01b48a",
   "metadata": {},
   "outputs": [
    {
     "data": {
      "text/plain": [
       "2002"
      ]
     },
     "execution_count": 27,
     "metadata": {},
     "output_type": "execute_result"
    }
   ],
   "source": [
    "my_car1.make"
   ]
  },
  {
   "cell_type": "code",
   "execution_count": 28,
   "id": "8ef189d6-7227-498c-bec2-e8a34c0798ac",
   "metadata": {},
   "outputs": [
    {
     "data": {
      "text/plain": [
       "'Latest'"
      ]
     },
     "execution_count": 28,
     "metadata": {},
     "output_type": "execute_result"
    }
   ],
   "source": [
    "my_car1.model"
   ]
  },
  {
   "cell_type": "code",
   "execution_count": null,
   "id": "f6cfcd2c-53e6-412f-b602-5c1d90e5f2f0",
   "metadata": {},
   "outputs": [],
   "source": []
  },
  {
   "cell_type": "code",
   "execution_count": 65,
   "id": "3869c2b0-826e-47a8-bf2b-9b07555182ec",
   "metadata": {},
   "outputs": [],
   "source": [
    "# Inheritance:\n",
    "# Create a new class called ElectricCar that inherits from the Car class.\n",
    "# Add an attribute battery_capacity to the ElectricCar class.\n",
    "# Create an instance of ElectricCar and set its make, model, and battery_capacity attributes.\n",
    "\n",
    "class ElectricCar(Car):\n",
    "    def __init__(self, make, model, battery_capacity):\n",
    "        super().__init__(make, model) \n",
    "        self.battery_capacity = battery_capacity\n",
    "\n",
    "# Method Overriding:\n",
    "# Override the start_engine method in the ElectricCar class to print \"Electric motor started!\" instead of \"Engine started!\" when called.\n",
    "# Create an instance of ElectricCar and call the start_engine method.\n",
    "    \n",
    "    def start_engine(self):\n",
    "        print(\"Electric motor started!\")"
   ]
  },
  {
   "cell_type": "code",
   "execution_count": 66,
   "id": "35f75780-5799-4a40-a332-21d297d65c4a",
   "metadata": {},
   "outputs": [],
   "source": [
    "myElectricCar = ElectricCar(1098, \"Oldest\", \"500CC\")"
   ]
  },
  {
   "cell_type": "code",
   "execution_count": 67,
   "id": "e3ff1254-95ba-408a-8d17-e5b847574ab3",
   "metadata": {},
   "outputs": [
    {
     "data": {
      "text/plain": [
       "1098"
      ]
     },
     "execution_count": 67,
     "metadata": {},
     "output_type": "execute_result"
    }
   ],
   "source": [
    "myElectricCar.make"
   ]
  },
  {
   "cell_type": "code",
   "execution_count": 68,
   "id": "226e5b96-364d-4edc-9fef-5884f39cd5a0",
   "metadata": {},
   "outputs": [
    {
     "data": {
      "text/plain": [
       "'Oldest'"
      ]
     },
     "execution_count": 68,
     "metadata": {},
     "output_type": "execute_result"
    }
   ],
   "source": [
    "myElectricCar.model"
   ]
  },
  {
   "cell_type": "code",
   "execution_count": 69,
   "id": "5c27786b-62de-444d-bc6d-17dd382ae957",
   "metadata": {},
   "outputs": [
    {
     "data": {
      "text/plain": [
       "'500CC'"
      ]
     },
     "execution_count": 69,
     "metadata": {},
     "output_type": "execute_result"
    }
   ],
   "source": [
    "myElectricCar.battery_capacity"
   ]
  },
  {
   "cell_type": "code",
   "execution_count": 70,
   "id": "a7e6ae91-f9c3-4399-b861-3e38ab172d76",
   "metadata": {},
   "outputs": [
    {
     "name": "stdout",
     "output_type": "stream",
     "text": [
      "Electric motor started!\n"
     ]
    }
   ],
   "source": [
    "# Method Overriding:\n",
    "# Override the start_engine method in the ElectricCar class to print \"Electric motor started!\" instead of \"Engine started!\" when called.\n",
    "# Create an instance of ElectricCar and call the start_engine method.\n",
    "\n",
    "myElectricCar.start_engine()"
   ]
  },
  {
   "cell_type": "code",
   "execution_count": null,
   "id": "2eec0b83-40d5-4b6e-809f-ab09e6de0fba",
   "metadata": {},
   "outputs": [],
   "source": []
  },
  {
   "cell_type": "code",
   "execution_count": 147,
   "id": "58ffea9b-be31-4905-a288-af575c42bf00",
   "metadata": {},
   "outputs": [],
   "source": [
    "# Encapsulation:\n",
    "# Add a private attribute called _mileage to the Car class.\n",
    "# Provide a method to get the mileage value and another method to set it.\n",
    "# Create an instance of Car and set its mileage using the setter method, then retrieve and print the mileage using the getter method.\n",
    "\n",
    "class Car:\n",
    "    def __init__(self, make, model):\n",
    "        self.make = make\n",
    "        self.model = model\n",
    "        self._mileage = 0\n",
    "        \n",
    "    def get_mileage(self):\n",
    "        print (\"Mileage Value is\", self._mileage)\n",
    "        \n",
    "    def set_mileage(self, mileage):\n",
    "        if mileage>=0:\n",
    "            self._mileage = mileage"
   ]
  },
  {
   "cell_type": "code",
   "execution_count": 148,
   "id": "abdb6d8a-5a97-4e70-839c-ec8221359550",
   "metadata": {},
   "outputs": [],
   "source": [
    "my_car = Car(1170, \"Newest\")"
   ]
  },
  {
   "cell_type": "code",
   "execution_count": 149,
   "id": "00b691ba-132f-42ef-a28e-7991d8c4ee5a",
   "metadata": {},
   "outputs": [
    {
     "data": {
      "text/plain": [
       "'Newest'"
      ]
     },
     "execution_count": 149,
     "metadata": {},
     "output_type": "execute_result"
    }
   ],
   "source": [
    "my_car.model"
   ]
  },
  {
   "cell_type": "code",
   "execution_count": 150,
   "id": "9fe1b7f3-fb1c-4dbe-a2f7-657a9cb51ce0",
   "metadata": {},
   "outputs": [
    {
     "data": {
      "text/plain": [
       "1170"
      ]
     },
     "execution_count": 150,
     "metadata": {},
     "output_type": "execute_result"
    }
   ],
   "source": [
    "my_car.make"
   ]
  },
  {
   "cell_type": "code",
   "execution_count": 151,
   "id": "c767db37-a5e4-4991-9bbf-1c81f8a2d4ea",
   "metadata": {},
   "outputs": [
    {
     "name": "stdout",
     "output_type": "stream",
     "text": [
      "Mileage Value is 0\n"
     ]
    }
   ],
   "source": [
    "my_car.get_mileage()"
   ]
  },
  {
   "cell_type": "code",
   "execution_count": 153,
   "id": "b1be6c6c-db18-4132-b4f3-c9d53cbac753",
   "metadata": {},
   "outputs": [],
   "source": [
    "my_car.set_mileage(300000)"
   ]
  },
  {
   "cell_type": "code",
   "execution_count": 154,
   "id": "8fa982f6-ef2a-437c-8283-24ec3300f09a",
   "metadata": {},
   "outputs": [
    {
     "name": "stdout",
     "output_type": "stream",
     "text": [
      "Mileage Value is 300000\n"
     ]
    }
   ],
   "source": [
    "my_car.get_mileage()"
   ]
  },
  {
   "cell_type": "code",
   "execution_count": null,
   "id": "971280fc-27ab-4505-88ff-50ee0defdc99",
   "metadata": {},
   "outputs": [],
   "source": []
  },
  {
   "cell_type": "code",
   "execution_count": 2,
   "id": "8ed61438-3ed5-4ae6-91fe-540b1e4b3715",
   "metadata": {},
   "outputs": [],
   "source": [
    "# Class Variables:\n",
    "# Add a class variable called total_cars to the Car class to keep track of the total number of cars created.\n",
    "# Increment this variable in the constructor.\n",
    "# Print the total number of cars created.\n",
    "\n",
    "class Car:\n",
    "    total_cars = 0         # It is called as (Class-Variable), to the Car class to keep track of the total number of cars created.\n",
    "    \n",
    "    def __init__(self, make, model, mileage):\n",
    "        self.make = make\n",
    "        self.model = model\n",
    "        self._mileage = 0\n",
    "        Car.total_cars = Car.total_cars + 1\n",
    "        \n",
    "        \n",
    "    def get_mileage(self):\n",
    "        print (\"Mileage Value is\", self._mileage)\n",
    "        \n",
    "    def set_mileage(self, mileage):\n",
    "        if mileage>=0:\n",
    "            self._mileage = mileage\n"
   ]
  },
  {
   "cell_type": "code",
   "execution_count": 3,
   "id": "314a62b6-fd7a-4da4-b2a2-bc2095aa9579",
   "metadata": {},
   "outputs": [],
   "source": [
    "mycar1 = Car(2000, \"old\", 7000)"
   ]
  },
  {
   "cell_type": "code",
   "execution_count": 4,
   "id": "e9ef9302-ac31-470e-8951-5241824fcb64",
   "metadata": {},
   "outputs": [],
   "source": [
    "mycar2 = Car(2011, \"last_year\", 9000)"
   ]
  },
  {
   "cell_type": "code",
   "execution_count": 5,
   "id": "69914f32-9091-41ff-830a-80a2c4c64354",
   "metadata": {},
   "outputs": [],
   "source": [
    "mycar3 = Car(2023, \"latest\", 12000)"
   ]
  },
  {
   "cell_type": "code",
   "execution_count": 7,
   "id": "f6d0e0fb-662a-46ce-9298-fede944629b1",
   "metadata": {},
   "outputs": [
    {
     "name": "stdout",
     "output_type": "stream",
     "text": [
      "Total no. Cars Created - 3\n"
     ]
    }
   ],
   "source": [
    "print(\"Total no. Cars Created -\", Car.total_cars)"
   ]
  },
  {
   "cell_type": "code",
   "execution_count": null,
   "id": "08489b2e-7274-4651-bbe0-50488f56dc7c",
   "metadata": {},
   "outputs": [],
   "source": []
  },
  {
   "cell_type": "raw",
   "id": "06701848-2d57-4625-98fd-3ea0a5ba3ad5",
   "metadata": {},
   "source": [
    "Polymorphism:\n",
    "Create a function called describe_vehicle that takes an object of either the Car or ElectricCar class as a parameter and prints a description of the vehicle, including its make, model, and any additional attributes specific to the class."
   ]
  },
  {
   "cell_type": "code",
   "execution_count": null,
   "id": "d44de0e1-91ec-416c-b143-9a6a35ea57fa",
   "metadata": {},
   "outputs": [],
   "source": [
    "def describe_vehicle(self):\n",
    "    return Car."
   ]
  },
  {
   "cell_type": "code",
   "execution_count": null,
   "id": "923a3a6a-832f-4ba0-9e8f-0020005e68d5",
   "metadata": {},
   "outputs": [],
   "source": []
  },
  {
   "cell_type": "raw",
   "id": "20c1a769-93c6-4dec-8ad1-0c67f86c078e",
   "metadata": {},
   "source": []
  },
  {
   "cell_type": "code",
   "execution_count": 31,
   "id": "ec676956-3c95-4d5f-abe0-aaf969fe2dd0",
   "metadata": {},
   "outputs": [],
   "source": [
    "# Composition:\n",
    "# Create a class called Engine with a method start that prints \"Engine started!\" Create a new class called Car that has an instance variable of type Engine.\n",
    "# When you create an instance of Car and call its start method, it should delegate the call to the Engine instance.\n",
    "\n",
    "\n",
    "class Engine:\n",
    "    def start(self):\n",
    "        print(\"Engine Started!\")\n",
    "\n",
    "class Car:\n",
    "    def __init__(self):\n",
    "        self.engine = Engine()\n",
    "\n",
    "    def start(self):\n",
    "        self.engine.start()\n",
    "        "
   ]
  },
  {
   "cell_type": "code",
   "execution_count": 32,
   "id": "fa6570aa-1259-4b9f-a4e3-a6e0df8f6c42",
   "metadata": {},
   "outputs": [],
   "source": [
    "Car_instance = Car()"
   ]
  },
  {
   "cell_type": "code",
   "execution_count": 33,
   "id": "fccd96e4-18fc-469d-8823-a5e682306f1b",
   "metadata": {},
   "outputs": [
    {
     "name": "stdout",
     "output_type": "stream",
     "text": [
      "Engine Started!\n"
     ]
    }
   ],
   "source": [
    "Car_instance.start()"
   ]
  },
  {
   "cell_type": "code",
   "execution_count": null,
   "id": "826db5eb-a7c6-4e9e-8130-33545dba46f1",
   "metadata": {},
   "outputs": [],
   "source": []
  },
  {
   "cell_type": "code",
   "execution_count": 40,
   "id": "a039492e-8a94-4874-8561-f4d128742968",
   "metadata": {},
   "outputs": [],
   "source": [
    "# Abstraction:\n",
    "# Define an abstract base class called Shape with an abstract method area.\n",
    "# Create two subclasses, Circle and Rectangle, that inherit from Shape and implement the area method to calculate the area of a circle and rectangle.\n",
    "\n",
    "from abc import ABC, abstractmethod\n",
    "\n",
    "class Shape(ABC):\n",
    "\n",
    "    @abstractmethod\n",
    "    def area():\n",
    "        pass\n",
    "\n",
    "class Circle(Shape):\n",
    "    def __init__(self, radius):\n",
    "        self.radius = radius\n",
    "        \n",
    "    def area(self):\n",
    "        return 3.14 * self.radius**2\n",
    "\n",
    "\n",
    "class Rectangle(Shape):\n",
    "    def __init__(self, length, width):\n",
    "        self.length = length\n",
    "        self.width = width\n",
    "\n",
    "    def area(self):\n",
    "        return self.length*self.width\n"
   ]
  },
  {
   "cell_type": "code",
   "execution_count": 43,
   "id": "ebf79a4e-28b4-47a3-a9a6-7a7426563215",
   "metadata": {},
   "outputs": [
    {
     "data": {
      "text/plain": [
       "78.5"
      ]
     },
     "execution_count": 43,
     "metadata": {},
     "output_type": "execute_result"
    }
   ],
   "source": [
    "circ = Circle(5)\n",
    "circ.area()"
   ]
  },
  {
   "cell_type": "code",
   "execution_count": 42,
   "id": "c852c4ab-c6a0-4804-b927-96f2dd767354",
   "metadata": {},
   "outputs": [
    {
     "data": {
      "text/plain": [
       "32"
      ]
     },
     "execution_count": 42,
     "metadata": {},
     "output_type": "execute_result"
    }
   ],
   "source": [
    "rect = Rectangle(8,4)\n",
    "rect.area()"
   ]
  },
  {
   "cell_type": "code",
   "execution_count": null,
   "id": "c49f1131-6d5f-4643-8081-dcadbbf52b0e",
   "metadata": {},
   "outputs": [],
   "source": []
  }
 ],
 "metadata": {
  "kernelspec": {
   "display_name": "Python 3 (ipykernel)",
   "language": "python",
   "name": "python3"
  },
  "language_info": {
   "codemirror_mode": {
    "name": "ipython",
    "version": 3
   },
   "file_extension": ".py",
   "mimetype": "text/x-python",
   "name": "python",
   "nbconvert_exporter": "python",
   "pygments_lexer": "ipython3",
   "version": "3.11.5"
  }
 },
 "nbformat": 4,
 "nbformat_minor": 5
}
