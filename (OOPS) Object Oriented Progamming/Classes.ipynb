{
 "cells": [
  {
   "cell_type": "code",
   "execution_count": 2,
   "id": "9f3fb2ef-63aa-408b-99cc-904b4cb72c70",
   "metadata": {},
   "outputs": [],
   "source": [
    "f = 0"
   ]
  },
  {
   "cell_type": "code",
   "execution_count": 3,
   "id": "fe870a43-ff70-4d00-b386-ad7e60e13509",
   "metadata": {},
   "outputs": [
    {
     "data": {
      "text/plain": [
       "int"
      ]
     },
     "execution_count": 3,
     "metadata": {},
     "output_type": "execute_result"
    }
   ],
   "source": [
    "type(f)"
   ]
  },
  {
   "cell_type": "code",
   "execution_count": 4,
   "id": "e4c00b30-3487-4a93-b655-57e46cc9fba6",
   "metadata": {},
   "outputs": [
    {
     "name": "stdout",
     "output_type": "stream",
     "text": [
      "<class 'int'>\n"
     ]
    }
   ],
   "source": [
    "print(type(f))"
   ]
  },
  {
   "cell_type": "code",
   "execution_count": 1,
   "id": "5edd7a1f-96c6-4fa1-bebd-f1d780690a34",
   "metadata": {},
   "outputs": [],
   "source": [
    "class car:\n",
    "    def __init__ (self,body_type,fuel,engine,colour,tyres): #constructor,curser\n",
    "        self.body_type = body_type\n",
    "        self.fuel = fuel\n",
    "        self.engine = engine\n",
    "        self.colour = colour\n",
    "        self.tyres = tyres\n",
    "        \n",
    "\n",
    "    def test(self):\n",
    "        print(\"This is my test function\")\n",
    "    \n",
    "        "
   ]
  },
  {
   "cell_type": "code",
   "execution_count": 2,
   "id": "cab7ee3c-c33a-4bf3-95ce-b1ac2d371edd",
   "metadata": {},
   "outputs": [],
   "source": [
    "Fortuner = car('SUV','Petrol',1500,'White',4)            # Fortuner is an \"OBJECT\""
   ]
  },
  {
   "cell_type": "code",
   "execution_count": 3,
   "id": "dafbc258-6dfb-4029-8612-229e9123e494",
   "metadata": {},
   "outputs": [
    {
     "name": "stdout",
     "output_type": "stream",
     "text": [
      "This is my test function\n"
     ]
    }
   ],
   "source": [
    "Fortuner.test()"
   ]
  },
  {
   "cell_type": "code",
   "execution_count": 4,
   "id": "a645d9fd-a36f-4a5f-ba1a-46ecddaf1a3f",
   "metadata": {},
   "outputs": [
    {
     "data": {
      "text/plain": [
       "4"
      ]
     },
     "execution_count": 4,
     "metadata": {},
     "output_type": "execute_result"
    }
   ],
   "source": [
    "Fortuner.tyres"
   ]
  },
  {
   "cell_type": "code",
   "execution_count": 5,
   "id": "0e1a80f9-0f33-4221-9789-499bbcef3b9e",
   "metadata": {},
   "outputs": [
    {
     "data": {
      "text/plain": [
       "'SUV'"
      ]
     },
     "execution_count": 5,
     "metadata": {},
     "output_type": "execute_result"
    }
   ],
   "source": [
    "Fortuner.body_type"
   ]
  },
  {
   "cell_type": "code",
   "execution_count": 6,
   "id": "117ac6d3-1418-48b5-8e64-f98fa0260f22",
   "metadata": {},
   "outputs": [
    {
     "data": {
      "text/plain": [
       "'White'"
      ]
     },
     "execution_count": 6,
     "metadata": {},
     "output_type": "execute_result"
    }
   ],
   "source": [
    "Fortuner.colour"
   ]
  },
  {
   "cell_type": "code",
   "execution_count": null,
   "id": "51269f49-a2e4-4961-8f45-a8e6549d2d31",
   "metadata": {},
   "outputs": [],
   "source": []
  },
  {
   "cell_type": "code",
   "execution_count": null,
   "id": "660cc4bc-fc0f-4bc1-be0b-79a21e338912",
   "metadata": {},
   "outputs": [],
   "source": []
  },
  {
   "cell_type": "code",
   "execution_count": 27,
   "id": "4ae61d5d-067c-44c0-abfd-e5d134d4ecea",
   "metadata": {},
   "outputs": [],
   "source": [
    "class bike:\n",
    "    def __init__ (specification, cc, fuel, color):\n",
    "        specification.cc = cc\n",
    "        specification.fuel = fuel\n",
    "        specification.color = color"
   ]
  },
  {
   "cell_type": "code",
   "execution_count": 39,
   "id": "1939874f-a97e-48df-bfd5-cd040bff3b0c",
   "metadata": {},
   "outputs": [],
   "source": [
    "continental = bike(\"2000\",\"petrol\",\"white & blue\")"
   ]
  },
  {
   "cell_type": "code",
   "execution_count": 40,
   "id": "1f34c007-c44e-4a2a-bbe2-bc20b8baf4a7",
   "metadata": {},
   "outputs": [
    {
     "data": {
      "text/plain": [
       "'2000'"
      ]
     },
     "execution_count": 40,
     "metadata": {},
     "output_type": "execute_result"
    }
   ],
   "source": [
    "continental.cc"
   ]
  },
  {
   "cell_type": "code",
   "execution_count": 41,
   "id": "3e491df9-baa2-4596-8b1a-800272ab94d0",
   "metadata": {},
   "outputs": [
    {
     "data": {
      "text/plain": [
       "'petrol'"
      ]
     },
     "execution_count": 41,
     "metadata": {},
     "output_type": "execute_result"
    }
   ],
   "source": [
    "continental.fuel"
   ]
  },
  {
   "cell_type": "code",
   "execution_count": 42,
   "id": "900bf42a-8381-4cf5-a91c-2758f17cad84",
   "metadata": {},
   "outputs": [
    {
     "data": {
      "text/plain": [
       "'white & blue'"
      ]
     },
     "execution_count": 42,
     "metadata": {},
     "output_type": "execute_result"
    }
   ],
   "source": [
    "continental.color"
   ]
  },
  {
   "cell_type": "code",
   "execution_count": null,
   "id": "fcd96829-6786-4dcc-9c14-e626e7a1fc83",
   "metadata": {},
   "outputs": [],
   "source": []
  },
  {
   "cell_type": "code",
   "execution_count": null,
   "id": "38fbf908-0b86-4582-b8b5-84e701df848a",
   "metadata": {},
   "outputs": [],
   "source": []
  },
  {
   "cell_type": "code",
   "execution_count": 30,
   "id": "f4fc634c-6ff9-49f4-aa46-a67fc955a66a",
   "metadata": {},
   "outputs": [],
   "source": [
    "class calculator:\n",
    "    def __init__(self,z,x):\n",
    "        self.z = z\n",
    "        self.x = x\n",
    "        \n",
    "    def addition(self):\n",
    "        return self.z + self.x\n",
    "\n",
    "    def subtraction(self):\n",
    "        return self.z - self.x\n",
    "\n",
    "    def multiplication (self):\n",
    "        return self.z * self.x\n",
    "        "
   ]
  },
  {
   "cell_type": "code",
   "execution_count": 31,
   "id": "4314a25b-cce2-42df-9a88-ce6546d4158f",
   "metadata": {},
   "outputs": [],
   "source": [
    "p = calculator(10,5)"
   ]
  },
  {
   "cell_type": "code",
   "execution_count": 32,
   "id": "8b8dd888-b5a1-4106-a52f-00bcaac8887a",
   "metadata": {},
   "outputs": [
    {
     "data": {
      "text/plain": [
       "15"
      ]
     },
     "execution_count": 32,
     "metadata": {},
     "output_type": "execute_result"
    }
   ],
   "source": [
    "p.addition()"
   ]
  },
  {
   "cell_type": "code",
   "execution_count": 33,
   "id": "8fdd473f-caab-4f5f-85c0-c09acf1a7ccd",
   "metadata": {},
   "outputs": [
    {
     "data": {
      "text/plain": [
       "5"
      ]
     },
     "execution_count": 33,
     "metadata": {},
     "output_type": "execute_result"
    }
   ],
   "source": [
    "p.subtraction()"
   ]
  },
  {
   "cell_type": "code",
   "execution_count": 34,
   "id": "34bfef44-9a60-486a-a319-948ca3898762",
   "metadata": {},
   "outputs": [
    {
     "data": {
      "text/plain": [
       "50"
      ]
     },
     "execution_count": 34,
     "metadata": {},
     "output_type": "execute_result"
    }
   ],
   "source": [
    "p.multiplication()"
   ]
  },
  {
   "cell_type": "code",
   "execution_count": null,
   "id": "1b563907-896a-4859-a14b-ae998c300266",
   "metadata": {},
   "outputs": [],
   "source": []
  },
  {
   "cell_type": "code",
   "execution_count": null,
   "id": "fc4010c5-0af2-4523-9e10-4909b35e36a4",
   "metadata": {},
   "outputs": [],
   "source": []
  },
  {
   "cell_type": "code",
   "execution_count": 1,
   "id": "b4aa7f49-154f-4248-bcc3-87884ded7afc",
   "metadata": {},
   "outputs": [],
   "source": [
    "class company:\n",
    "    def __init__(self, employeeID, employeeRATING):\n",
    "        self.employeeID = employeeID\n",
    "        self.employeeRATING = employeeRATING      # Public  \n",
    "        self._gmail = \"arbaazt2002@gmail.com\"     # Protected\n",
    "        self.__bonusratingA = \"70%\"               # Private\n",
    "        self.__bonusratingB = \"60%\"\n",
    "        self.__bonusratingC = \"50%\"\n",
    "        "
   ]
  },
  {
   "cell_type": "code",
   "execution_count": 2,
   "id": "30b4f7bb-385f-4b4f-a36f-e3070090b399",
   "metadata": {},
   "outputs": [],
   "source": [
    "z = company(100,\"A\")"
   ]
  },
  {
   "cell_type": "code",
   "execution_count": 3,
   "id": "b36b47dc-b6b5-4520-8d02-dc12a983da9b",
   "metadata": {},
   "outputs": [
    {
     "data": {
      "text/plain": [
       "100"
      ]
     },
     "execution_count": 3,
     "metadata": {},
     "output_type": "execute_result"
    }
   ],
   "source": [
    "z.employeeID"
   ]
  },
  {
   "cell_type": "code",
   "execution_count": 4,
   "id": "e91285dd-0c60-4159-a5d9-bf97df67bb1f",
   "metadata": {},
   "outputs": [
    {
     "data": {
      "text/plain": [
       "'arbaazt2002@gmail.com'"
      ]
     },
     "execution_count": 4,
     "metadata": {},
     "output_type": "execute_result"
    }
   ],
   "source": [
    "z._gmail"
   ]
  },
  {
   "cell_type": "code",
   "execution_count": 5,
   "id": "203ca5ce-5ef5-41a2-aadc-54ad2b1ccd74",
   "metadata": {},
   "outputs": [
    {
     "data": {
      "text/plain": [
       "'70%'"
      ]
     },
     "execution_count": 5,
     "metadata": {},
     "output_type": "execute_result"
    }
   ],
   "source": [
    "z._company__bonusratingA"
   ]
  },
  {
   "cell_type": "code",
   "execution_count": 6,
   "id": "6603ceef-05a3-48b2-99eb-3564e756e8c9",
   "metadata": {},
   "outputs": [
    {
     "data": {
      "text/plain": [
       "'60%'"
      ]
     },
     "execution_count": 6,
     "metadata": {},
     "output_type": "execute_result"
    }
   ],
   "source": [
    "z._company__bonusratingB"
   ]
  },
  {
   "cell_type": "code",
   "execution_count": null,
   "id": "643bc281-7875-4d77-8628-9be5c5bf186a",
   "metadata": {},
   "outputs": [],
   "source": []
  },
  {
   "cell_type": "code",
   "execution_count": null,
   "id": "3fe1de0f-ff92-44a6-9c72-344b63594e5a",
   "metadata": {},
   "outputs": [],
   "source": []
  },
  {
   "cell_type": "code",
   "execution_count": null,
   "id": "f224730d-2249-431a-b7ee-c19e3c8c2a13",
   "metadata": {},
   "outputs": [],
   "source": []
  },
  {
   "cell_type": "code",
   "execution_count": 24,
   "id": "f10c0b2b-b82e-4fd2-ba46-14d8ac23427b",
   "metadata": {},
   "outputs": [],
   "source": [
    "def evaluation(result):\n",
    "    return result.score()"
   ]
  },
  {
   "cell_type": "code",
   "execution_count": 25,
   "id": "6cdadb2a-12e5-4884-96e7-c320482ecc0e",
   "metadata": {},
   "outputs": [],
   "source": [
    "f = Football()\n",
    "c = Cricket()"
   ]
  },
  {
   "cell_type": "code",
   "execution_count": 26,
   "id": "41b4895a-625c-4882-9318-5bbbb71751dc",
   "metadata": {},
   "outputs": [
    {
     "data": {
      "text/plain": [
       "'ok ok score'"
      ]
     },
     "execution_count": 26,
     "metadata": {},
     "output_type": "execute_result"
    }
   ],
   "source": [
    "evaluation(c)"
   ]
  },
  {
   "cell_type": "code",
   "execution_count": 28,
   "id": "f62d54c6-4354-481d-bbf8-73436865edc7",
   "metadata": {},
   "outputs": [
    {
     "data": {
      "text/plain": [
       "'best score'"
      ]
     },
     "execution_count": 28,
     "metadata": {},
     "output_type": "execute_result"
    }
   ],
   "source": [
    "evaluation(f)"
   ]
  },
  {
   "cell_type": "code",
   "execution_count": null,
   "id": "438505ac-6151-4ca3-91be-304bfc256ed9",
   "metadata": {},
   "outputs": [],
   "source": []
  },
  {
   "cell_type": "code",
   "execution_count": 29,
   "id": "0e92ae97-0626-4bb7-ab93-b3fe67b40304",
   "metadata": {},
   "outputs": [
    {
     "name": "stdout",
     "output_type": "stream",
     "text": [
      "Woof!\n",
      "Meow!\n",
      "Moo!\n"
     ]
    }
   ],
   "source": [
    "class Animal:\n",
    "    def speak(self):\n",
    "        pass\n",
    "\n",
    "class Dog(Animal):\n",
    "    def speak(self):\n",
    "        return \"Woof!\"\n",
    "\n",
    "class Cat(Animal):\n",
    "    def speak(self):\n",
    "        return \"Meow!\"\n",
    "\n",
    "class Cow(Animal):\n",
    "    def speak(self):\n",
    "        return \"Moo!\"\n",
    "\n",
    "# Create instances of different animals\n",
    "dog = Dog()\n",
    "cat = Cat()\n",
    "cow = Cow()\n",
    "\n",
    "# Store the animals in a list\n",
    "animals = [dog, cat, cow]\n",
    "\n",
    "# Call the 'speak' method on each animal without knowing their specific types\n",
    "for animal in animals:\n",
    "    print(animal.speak())\n"
   ]
  },
  {
   "cell_type": "code",
   "execution_count": null,
   "id": "f17b703a-c744-4859-96d7-b3d345d8991c",
   "metadata": {},
   "outputs": [],
   "source": []
  },
  {
   "cell_type": "code",
   "execution_count": null,
   "id": "a280f1ae-8808-4479-8df5-65197436ece0",
   "metadata": {},
   "outputs": [],
   "source": []
  },
  {
   "cell_type": "code",
   "execution_count": null,
   "id": "4cf6b5e8-0015-4a93-b881-05d6dcf7a596",
   "metadata": {},
   "outputs": [],
   "source": []
  },
  {
   "cell_type": "code",
   "execution_count": 6,
   "id": "c66b9813-06c5-45e3-af58-7105150bfefc",
   "metadata": {},
   "outputs": [],
   "source": [
    "class Bottle:\n",
    "    def __init__(self, color, type):\n",
    "        self.color = color\n",
    "        self.type = type\n",
    "\n",
    "    def pour(self):\n",
    "        print(\"Pouring...\")\n",
    "\n",
    "    def drink(self):\n",
    "        print(\"Drinking...\")"
   ]
  },
  {
   "cell_type": "code",
   "execution_count": 7,
   "id": "73248fe6-85aa-4860-8553-125288b14e7f",
   "metadata": {},
   "outputs": [],
   "source": [
    "the_bottle = Bottle(\"blue\",\"water\")"
   ]
  },
  {
   "cell_type": "code",
   "execution_count": 8,
   "id": "1eb967a5-c4a2-4197-a118-4511c5f56231",
   "metadata": {},
   "outputs": [
    {
     "data": {
      "text/plain": [
       "'blue'"
      ]
     },
     "execution_count": 8,
     "metadata": {},
     "output_type": "execute_result"
    }
   ],
   "source": [
    "the_bottle.color"
   ]
  },
  {
   "cell_type": "code",
   "execution_count": 9,
   "id": "1597ec25-f1c5-49ba-8a24-f42a75c32e11",
   "metadata": {},
   "outputs": [
    {
     "data": {
      "text/plain": [
       "'water'"
      ]
     },
     "execution_count": 9,
     "metadata": {},
     "output_type": "execute_result"
    }
   ],
   "source": [
    "the_bottle.type"
   ]
  },
  {
   "cell_type": "code",
   "execution_count": 11,
   "id": "17c6ee8f-398c-4869-b004-fac412be8aad",
   "metadata": {},
   "outputs": [
    {
     "name": "stdout",
     "output_type": "stream",
     "text": [
      "Drinking...\n"
     ]
    }
   ],
   "source": [
    "the_bottle.drink()"
   ]
  },
  {
   "cell_type": "code",
   "execution_count": 12,
   "id": "8ad0f9d2-57f5-43da-bea6-248c1ac9d36a",
   "metadata": {},
   "outputs": [
    {
     "name": "stdout",
     "output_type": "stream",
     "text": [
      "Pouring...\n"
     ]
    }
   ],
   "source": [
    "the_bottle.pour()"
   ]
  },
  {
   "cell_type": "code",
   "execution_count": null,
   "id": "7c5b2bd7-23d7-45a3-84c6-8798d79abfbf",
   "metadata": {},
   "outputs": [],
   "source": []
  },
  {
   "cell_type": "code",
   "execution_count": null,
   "id": "adce5eb6-1206-4edb-a98c-012a376eb38e",
   "metadata": {},
   "outputs": [],
   "source": []
  },
  {
   "cell_type": "code",
   "execution_count": 14,
   "id": "7acd15df-aeb8-4b2b-bd27-48bfb6e2fb1f",
   "metadata": {},
   "outputs": [],
   "source": [
    "class Person:\n",
    "    def __init__ (self, looks, height, weight, occupation):\n",
    "        self.looks = looks\n",
    "        self.height = height\n",
    "        self.weight = weight\n",
    "        self.occupation = occupation\n",
    "\n",
    "    def walk(self):\n",
    "        print(\"The Person is Walking...\")\n",
    "\n",
    "    def stand(self):\n",
    "        print(\"The Person is Standing...\")\n",
    "\n",
    "    def sit(self):\n",
    "        print(\"The Person is Sitting...\")"
   ]
  },
  {
   "cell_type": "code",
   "execution_count": 24,
   "id": "b695b9e2-d5f0-4a1e-bb96-0bab38047c74",
   "metadata": {},
   "outputs": [],
   "source": [
    "p = Person(\"Handsome\",\"6.2 ft\",\"78 kgs\",\"Data Scientist\")"
   ]
  },
  {
   "cell_type": "code",
   "execution_count": 25,
   "id": "82b6614a-a378-4ae6-965d-56fddd637c9e",
   "metadata": {},
   "outputs": [
    {
     "data": {
      "text/plain": [
       "'6.2 ft'"
      ]
     },
     "execution_count": 25,
     "metadata": {},
     "output_type": "execute_result"
    }
   ],
   "source": [
    "p.height"
   ]
  },
  {
   "cell_type": "code",
   "execution_count": 26,
   "id": "178f32c9-fee4-4b00-865a-fd6bd1277c47",
   "metadata": {},
   "outputs": [
    {
     "data": {
      "text/plain": [
       "'Handsome'"
      ]
     },
     "execution_count": 26,
     "metadata": {},
     "output_type": "execute_result"
    }
   ],
   "source": [
    "p.looks"
   ]
  },
  {
   "cell_type": "code",
   "execution_count": 27,
   "id": "bd773050-e8d1-4551-97cc-5b37534d0cff",
   "metadata": {},
   "outputs": [
    {
     "data": {
      "text/plain": [
       "'78 kgs'"
      ]
     },
     "execution_count": 27,
     "metadata": {},
     "output_type": "execute_result"
    }
   ],
   "source": [
    "p.weight"
   ]
  },
  {
   "cell_type": "code",
   "execution_count": 28,
   "id": "061aa6ee-3176-40e5-a060-dc86fe64fbb0",
   "metadata": {},
   "outputs": [
    {
     "data": {
      "text/plain": [
       "'Data Scientist'"
      ]
     },
     "execution_count": 28,
     "metadata": {},
     "output_type": "execute_result"
    }
   ],
   "source": [
    "p.occupation"
   ]
  },
  {
   "cell_type": "code",
   "execution_count": 29,
   "id": "c28acad3-e4b6-4c53-98eb-88dd3f55f400",
   "metadata": {},
   "outputs": [
    {
     "name": "stdout",
     "output_type": "stream",
     "text": [
      "The Person is Standing...\n"
     ]
    }
   ],
   "source": [
    "p.stand()"
   ]
  },
  {
   "cell_type": "code",
   "execution_count": 30,
   "id": "1fa91664-c591-4b59-b452-7e6e1f770d1c",
   "metadata": {},
   "outputs": [
    {
     "name": "stdout",
     "output_type": "stream",
     "text": [
      "The Person is Walking...\n"
     ]
    }
   ],
   "source": [
    "p.walk()"
   ]
  },
  {
   "cell_type": "code",
   "execution_count": 31,
   "id": "c0353389-1061-4a10-9d90-2211315e21ff",
   "metadata": {},
   "outputs": [
    {
     "name": "stdout",
     "output_type": "stream",
     "text": [
      "The Person is Sitting...\n"
     ]
    }
   ],
   "source": [
    "p.sit()"
   ]
  },
  {
   "cell_type": "code",
   "execution_count": null,
   "id": "139f062c-020e-4fd1-8ff2-6d3095d2da54",
   "metadata": {},
   "outputs": [],
   "source": []
  },
  {
   "cell_type": "code",
   "execution_count": null,
   "id": "23975d35-a07f-407d-849d-36e95e8617d6",
   "metadata": {},
   "outputs": [],
   "source": []
  },
  {
   "cell_type": "code",
   "execution_count": 23,
   "id": "5d72dac9-4df1-43cf-9549-a3dcc711c2d5",
   "metadata": {},
   "outputs": [],
   "source": [
    "class Employee:\n",
    "    def __init__(self, name, id):\n",
    "        self.name = name\n",
    "        self.id = id\n",
    "\n",
    "    def show_details(self):\n",
    "        print(\"The Employee name is -\",self.name,\"and Employee id is -\",self.id)"
   ]
  },
  {
   "cell_type": "code",
   "execution_count": 24,
   "id": "f2ad1f5c-b818-4939-ad22-4b49365fc44b",
   "metadata": {},
   "outputs": [],
   "source": [
    "e1 = Employee(\"John\", 112)"
   ]
  },
  {
   "cell_type": "code",
   "execution_count": 25,
   "id": "b0f611e1-1120-458c-a46c-d296d6129978",
   "metadata": {},
   "outputs": [
    {
     "data": {
      "text/plain": [
       "'John'"
      ]
     },
     "execution_count": 25,
     "metadata": {},
     "output_type": "execute_result"
    }
   ],
   "source": [
    "e1.name"
   ]
  },
  {
   "cell_type": "code",
   "execution_count": 26,
   "id": "9115257c-7f6a-4ddf-a04c-6baad972ed8b",
   "metadata": {},
   "outputs": [
    {
     "name": "stdout",
     "output_type": "stream",
     "text": [
      "The Employee name is - John and Employee id is - 112\n"
     ]
    }
   ],
   "source": [
    "e1.show_details()"
   ]
  },
  {
   "cell_type": "code",
   "execution_count": null,
   "id": "d81a5e4a-187a-4cc1-b70e-902a9e194f94",
   "metadata": {},
   "outputs": [],
   "source": []
  },
  {
   "cell_type": "code",
   "execution_count": 27,
   "id": "a692a106-e05d-497e-8874-fff801281a3d",
   "metadata": {},
   "outputs": [],
   "source": [
    "e2 = Employee(\"Cris\",115)"
   ]
  },
  {
   "cell_type": "code",
   "execution_count": 28,
   "id": "0318e7bd-985d-42b3-a4f5-0fea558a8c6a",
   "metadata": {},
   "outputs": [
    {
     "name": "stdout",
     "output_type": "stream",
     "text": [
      "The Employee name is - Cris and Employee id is - 115\n"
     ]
    }
   ],
   "source": [
    "e2.show_details()"
   ]
  },
  {
   "cell_type": "code",
   "execution_count": null,
   "id": "3b888a9d-e857-4dcc-833d-b2cabdb8525d",
   "metadata": {},
   "outputs": [],
   "source": []
  },
  {
   "cell_type": "code",
   "execution_count": 29,
   "id": "c46bcf48-8581-4834-81d3-2ce21e146f8a",
   "metadata": {},
   "outputs": [],
   "source": [
    "e3 = Employee(\"Messi\",118)"
   ]
  },
  {
   "cell_type": "code",
   "execution_count": 30,
   "id": "9610243a-a735-4a1e-8cc1-21cb53f4e10e",
   "metadata": {},
   "outputs": [
    {
     "name": "stdout",
     "output_type": "stream",
     "text": [
      "The Employee name is - Messi and Employee id is - 118\n"
     ]
    }
   ],
   "source": [
    "e3.show_details()"
   ]
  },
  {
   "cell_type": "code",
   "execution_count": null,
   "id": "dc37344c-a156-477c-a83f-ec3f05a177b3",
   "metadata": {},
   "outputs": [],
   "source": []
  },
  {
   "cell_type": "code",
   "execution_count": null,
   "id": "99613bf0-06e4-4ddb-97b8-baa8e9bd893d",
   "metadata": {},
   "outputs": [],
   "source": []
  },
  {
   "cell_type": "code",
   "execution_count": 17,
   "id": "1bc3b091-bbc7-4140-9852-cdfdda31147f",
   "metadata": {},
   "outputs": [],
   "source": [
    "class mylist:\n",
    "    def __init__(self, a, b):\n",
    "        self.a = a\n",
    "        self.b = b\n",
    "        self.z = []\n",
    "        \n",
    "    def slicing(self):\n",
    "        if type(self.a)==str and type(self.b)==str:\n",
    "            for i in self.a:\n",
    "                self.z.append(i)\n",
    "            for i in self.b:\n",
    "                self.z.append(i)\n",
    "        return self.z"
   ]
  },
  {
   "cell_type": "code",
   "execution_count": 18,
   "id": "7f083a3b-44f2-4caf-a62f-269c6d8f62d4",
   "metadata": {},
   "outputs": [],
   "source": [
    "xyz = mylist(\"world\",\"hello\")"
   ]
  },
  {
   "cell_type": "code",
   "execution_count": 19,
   "id": "2762e9eb-ccf7-4ba2-b05d-b1bd1b32bb72",
   "metadata": {},
   "outputs": [
    {
     "data": {
      "text/plain": [
       "['w', 'o', 'r', 'l', 'd', 'h', 'e', 'l', 'l', 'o']"
      ]
     },
     "execution_count": 19,
     "metadata": {},
     "output_type": "execute_result"
    }
   ],
   "source": [
    "xyz.slicing()"
   ]
  },
  {
   "cell_type": "code",
   "execution_count": null,
   "id": "dfcb8bf6-6022-4f28-bf49-32ec2d9a3bc3",
   "metadata": {},
   "outputs": [],
   "source": []
  },
  {
   "cell_type": "code",
   "execution_count": null,
   "id": "13ac44d4-2d8a-4585-a1f7-756fa7aa860b",
   "metadata": {},
   "outputs": [],
   "source": []
  },
  {
   "cell_type": "code",
   "execution_count": 44,
   "id": "e8a0c1bf-b7d1-4a70-b10a-72cf2bc4fca2",
   "metadata": {},
   "outputs": [],
   "source": [
    "class Even_Odd:\n",
    "    def __init__(self, c):\n",
    "        self.c = c\n",
    "\n",
    "    def even(self):\n",
    "        if self.c % 2==0:\n",
    "            print(\"this is a even no.\")\n"
   ]
  },
  {
   "cell_type": "code",
   "execution_count": 45,
   "id": "089acc10-043a-48f5-9ae2-86c62636801c",
   "metadata": {},
   "outputs": [],
   "source": [
    "s = Even_Odd(4)"
   ]
  },
  {
   "cell_type": "code",
   "execution_count": 46,
   "id": "73c620fd-4ab7-4546-b782-be0d444fda64",
   "metadata": {},
   "outputs": [
    {
     "name": "stdout",
     "output_type": "stream",
     "text": [
      "this is a even no.\n"
     ]
    }
   ],
   "source": [
    "s.even()"
   ]
  },
  {
   "cell_type": "code",
   "execution_count": null,
   "id": "51a9274a-e34e-49d0-84fc-548ffdd22d9d",
   "metadata": {},
   "outputs": [],
   "source": []
  },
  {
   "cell_type": "code",
   "execution_count": 37,
   "id": "3cbce6c8-bd27-4db1-b698-de37bac1558c",
   "metadata": {},
   "outputs": [],
   "source": [
    "class Even_Odd:\n",
    "    def __init__(self):\n",
    "        pass\n",
    "\n",
    "    def Input(self):\n",
    "        self.c = int(input())\n",
    "\n",
    "    def even(self):\n",
    "        if self.c % 2==0:\n",
    "            print(\"yess! this is an EVEN number\")\n",
    "        else:\n",
    "            return \"nooo! this is an ODD number\"\n",
    "            \n"
   ]
  },
  {
   "cell_type": "code",
   "execution_count": 38,
   "id": "b310dd4d-bc7f-4c37-9697-a4f4f4691b10",
   "metadata": {},
   "outputs": [],
   "source": [
    "x = Even_Odd()"
   ]
  },
  {
   "cell_type": "code",
   "execution_count": 39,
   "id": "9879cb94-14a2-462a-83f9-192ea0927f4e",
   "metadata": {},
   "outputs": [
    {
     "name": "stdin",
     "output_type": "stream",
     "text": [
      " 4\n"
     ]
    },
    {
     "name": "stdout",
     "output_type": "stream",
     "text": [
      "yess! this is an EVEN number\n"
     ]
    }
   ],
   "source": [
    "x.Input()\n",
    "x.even()"
   ]
  },
  {
   "cell_type": "code",
   "execution_count": null,
   "id": "b755b67d-4b15-49a8-b7cd-9be6ef57e692",
   "metadata": {},
   "outputs": [],
   "source": []
  },
  {
   "cell_type": "code",
   "execution_count": null,
   "id": "76075ea3-0edf-4fee-bd04-66acec8db918",
   "metadata": {},
   "outputs": [],
   "source": []
  },
  {
   "cell_type": "code",
   "execution_count": null,
   "id": "b883cc8a-997c-4c34-95ca-3a6db37582c6",
   "metadata": {},
   "outputs": [],
   "source": []
  }
 ],
 "metadata": {
  "kernelspec": {
   "display_name": "Python 3 (ipykernel)",
   "language": "python",
   "name": "python3"
  },
  "language_info": {
   "codemirror_mode": {
    "name": "ipython",
    "version": 3
   },
   "file_extension": ".py",
   "mimetype": "text/x-python",
   "name": "python",
   "nbconvert_exporter": "python",
   "pygments_lexer": "ipython3",
   "version": "3.11.5"
  }
 },
 "nbformat": 4,
 "nbformat_minor": 5
}
