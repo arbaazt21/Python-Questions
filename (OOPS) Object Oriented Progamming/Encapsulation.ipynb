{
 "cells": [
  {
   "cell_type": "markdown",
   "id": "1328503d-d6c9-42b6-a18b-0ca7f21eae77",
   "metadata": {},
   "source": [
    "# Encapsulation"
   ]
  },
  {
   "cell_type": "raw",
   "id": "7af2eae8-ba7b-41d5-9c58-521183321449",
   "metadata": {},
   "source": [
    "Encapsulation is the concept of (wrapping) DATA and METHODS that work with data in (one-unit).\n",
    "This puts restrictions on accessing variables and methods directly and can prevent the accidental modification of data.\n",
    "To prevent accidental change, an object’s variable can only be changed by an object’s method. Those types of variables are known as \"Private\" variables."
   ]
  },
  {
   "cell_type": "code",
   "execution_count": null,
   "id": "0e0d4960-7aaa-457c-9ed9-e229a279256f",
   "metadata": {},
   "outputs": [],
   "source": []
  },
  {
   "cell_type": "code",
   "execution_count": 56,
   "id": "c06aa6d8-dbe6-4118-b961-653abca8c257",
   "metadata": {},
   "outputs": [],
   "source": [
    "# (Private) Access Modifier     (CAN BE USED ONLY IN THE CLASS)\n",
    "# NOTE --> Private variable can be called only into the CLass with the help of the function(method) and NOT outside the class.\n",
    "\n",
    "class Person:\n",
    "    def __init__(self, name, age):\n",
    "        self.__name = name\n",
    "        self.__age = age                \n",
    "\n",
    "    def display_info(self):\n",
    "        print(f\"Name is {self.__name} and the Age is {self.__age}\")"
   ]
  },
  {
   "cell_type": "code",
   "execution_count": 21,
   "id": "ff6486b9-a4d2-4679-9e1b-22ea75605cf7",
   "metadata": {},
   "outputs": [],
   "source": [
    "p = Person(\"Dominic Toretto\", 32)"
   ]
  },
  {
   "cell_type": "code",
   "execution_count": 22,
   "id": "37e52ec2-5369-4c56-ac5b-11fb7d7d6803",
   "metadata": {},
   "outputs": [
    {
     "name": "stdout",
     "output_type": "stream",
     "text": [
      "Name is Dominic Toretto and the Age is 32\n"
     ]
    }
   ],
   "source": [
    "p.display_info()              "
   ]
  },
  {
   "cell_type": "code",
   "execution_count": 23,
   "id": "c029ee2b-62b6-4e76-9534-aee029b383d9",
   "metadata": {},
   "outputs": [
    {
     "data": {
      "text/plain": [
       "'Dominic Toretto'"
      ]
     },
     "execution_count": 23,
     "metadata": {},
     "output_type": "execute_result"
    }
   ],
   "source": [
    "p._Person__name       # this is also the way to print the Private variable, ((BUT it is NOT a good practice as the company point if view))."
   ]
  },
  {
   "cell_type": "code",
   "execution_count": null,
   "id": "7418c321-677e-46c9-b269-38f55e05e62b",
   "metadata": {},
   "outputs": [],
   "source": []
  },
  {
   "cell_type": "code",
   "execution_count": null,
   "id": "9987d447-11e3-4963-8129-ea1341a140ea",
   "metadata": {},
   "outputs": [],
   "source": []
  },
  {
   "cell_type": "code",
   "execution_count": 40,
   "id": "6e9d978a-0a7b-41ee-a92e-e92f8e362c9a",
   "metadata": {},
   "outputs": [],
   "source": [
    "# (Protected) Access Modifier     (CAN BE USED ONLY IN THE DERIVED CLASS)\n",
    "\n",
    "class Person:\n",
    "    def __init__(self, name, age):\n",
    "        self._name = name\n",
    "        self._age = age                \n",
    "\n",
    "    def display_info(self):\n",
    "        print(f\"Name is {self._name} and the Age is {self._age}\")\n",
    "\n",
    "class Student(Person):\n",
    "    def __init__(self, name, age, vehicle):\n",
    "        super().__init__(name, age)\n",
    "        self._vehicle = vehicle\n",
    "\n",
    "    def display_info(self):\n",
    "        print(f\"Name is {self._name}, Age is {self._age}, and has a {self._vehicle}\")\n",
    "        "
   ]
  },
  {
   "cell_type": "code",
   "execution_count": 38,
   "id": "761811e2-0a66-43fa-b849-7b3d1602d54a",
   "metadata": {},
   "outputs": [],
   "source": [
    "s = Student(\"Paul Walker\", 30, \"Mustang\")"
   ]
  },
  {
   "cell_type": "code",
   "execution_count": 39,
   "id": "b57208d8-5939-4af2-b348-0bb65775f1a6",
   "metadata": {},
   "outputs": [
    {
     "name": "stdout",
     "output_type": "stream",
     "text": [
      "Name is Paul Walker, Age is 30, and has a Mustang\n"
     ]
    }
   ],
   "source": [
    "s.display_info()"
   ]
  },
  {
   "cell_type": "code",
   "execution_count": null,
   "id": "9fce289a-9681-4e55-a2d0-332ed55db29f",
   "metadata": {},
   "outputs": [],
   "source": []
  },
  {
   "cell_type": "code",
   "execution_count": null,
   "id": "9d38392a-cfbe-42b7-852c-d2b3c7018899",
   "metadata": {},
   "outputs": [],
   "source": []
  },
  {
   "cell_type": "code",
   "execution_count": 42,
   "id": "e3ba5c90-69c6-4bc6-aafb-2b58323935ef",
   "metadata": {},
   "outputs": [],
   "source": [
    "# (Public) Access Modifier     (CAN BE USED ANYWHERE)\n",
    "\n",
    "class Person:\n",
    "    def __init__(self, name, age):\n",
    "        self.name = name\n",
    "        self.age = age"
   ]
  },
  {
   "cell_type": "code",
   "execution_count": 49,
   "id": "2ae26a16-9206-419f-b349-425cc845bf2f",
   "metadata": {},
   "outputs": [],
   "source": [
    "k = Person(\"Raquel\",28)"
   ]
  },
  {
   "cell_type": "code",
   "execution_count": 53,
   "id": "eae06725-64b4-4c22-9dfc-ade3c8b82c18",
   "metadata": {},
   "outputs": [
    {
     "name": "stdout",
     "output_type": "stream",
     "text": [
      "Raquel\n",
      "28\n"
     ]
    }
   ],
   "source": [
    "print(k.name)\n",
    "print(k.age)"
   ]
  },
  {
   "cell_type": "code",
   "execution_count": null,
   "id": "a2438ec5-2899-42ff-b199-441f0a930efe",
   "metadata": {},
   "outputs": [],
   "source": []
  },
  {
   "cell_type": "code",
   "execution_count": null,
   "id": "e37f8feb-db48-4253-a132-c3439cb353cf",
   "metadata": {},
   "outputs": [],
   "source": []
  }
 ],
 "metadata": {
  "kernelspec": {
   "display_name": "Python 3 (ipykernel)",
   "language": "python",
   "name": "python3"
  },
  "language_info": {
   "codemirror_mode": {
    "name": "ipython",
    "version": 3
   },
   "file_extension": ".py",
   "mimetype": "text/x-python",
   "name": "python",
   "nbconvert_exporter": "python",
   "pygments_lexer": "ipython3",
   "version": "3.11.5"
  }
 },
 "nbformat": 4,
 "nbformat_minor": 5
}
