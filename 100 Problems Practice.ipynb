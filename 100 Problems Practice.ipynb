{
 "cells": [
  {
   "cell_type": "raw",
   "id": "51518f6f-1f90-400e-b3ed-cdde9d3cc363",
   "metadata": {},
   "source": [
    "1) User will input (3ages). Find the oldest one"
   ]
  },
  {
   "cell_type": "code",
   "execution_count": 5,
   "id": "1566005c-dd3e-4ad1-943f-b0e115514267",
   "metadata": {},
   "outputs": [
    {
     "name": "stdin",
     "output_type": "stream",
     "text": [
      "enter you age =  23\n",
      "enter you age =  45\n",
      "enter you age =  42\n"
     ]
    },
    {
     "name": "stdout",
     "output_type": "stream",
     "text": [
      "45 is the oldest!\n"
     ]
    }
   ],
   "source": [
    "age1 = input(\"enter you age = \")\n",
    "age2 = input(\"enter you age = \")\n",
    "age3 = input(\"enter you age = \")\n",
    "\n",
    "if age1>age2 and age1>age3:\n",
    "    print(age1, \"is the oldest!\")\n",
    "\n",
    "elif age2>age1 and age2>age3:\n",
    "    print(age2, \"is the oldest!\")\n",
    "\n",
    "elif age3>age1 and age3>age2:\n",
    "    print(age3, \"is the oldest!\")"
   ]
  },
  {
   "cell_type": "code",
   "execution_count": null,
   "id": "9efbfb36-f198-4306-9ebc-b9d834b58bcb",
   "metadata": {},
   "outputs": [],
   "source": []
  },
  {
   "cell_type": "raw",
   "id": "cfb997a7-7e6c-441e-ad55-dfa0a7c52edc",
   "metadata": {},
   "source": [
    "2) Write a program that will convert celsius value to fahrenheit"
   ]
  },
  {
   "cell_type": "code",
   "execution_count": 8,
   "id": "e4f4a7e9-0164-42d9-a62c-7d0aab0b4f0e",
   "metadata": {},
   "outputs": [
    {
     "name": "stdin",
     "output_type": "stream",
     "text": [
      "Temperature in Celcius =  50\n"
     ]
    },
    {
     "name": "stdout",
     "output_type": "stream",
     "text": [
      "Celcius to Fahrenheit =  122.0\n"
     ]
    }
   ],
   "source": [
    "temp = float(input(\"Temperature in Celcius = \"))\n",
    "\n",
    "fahrenheit = (temp * 9/5) + 32\n",
    "\n",
    "print(\"Celcius to Fahrenheit = \",fahrenheit)"
   ]
  },
  {
   "cell_type": "code",
   "execution_count": null,
   "id": "879f6053-2ec4-4fc5-ab89-09b2924e953b",
   "metadata": {},
   "outputs": [],
   "source": []
  },
  {
   "cell_type": "raw",
   "id": "4372b5cd-87dc-45c5-846b-ba4a910f58e7",
   "metadata": {},
   "source": [
    "3) User will input (2numbers).Write a program to swap the numbers"
   ]
  },
  {
   "cell_type": "code",
   "execution_count": 12,
   "id": "b89a35ef-5799-4e13-af5e-a34c8d8f8efe",
   "metadata": {},
   "outputs": [
    {
     "name": "stdin",
     "output_type": "stream",
     "text": [
      "Enter first number =  77\n",
      "Enter second number =  32\n"
     ]
    },
    {
     "name": "stdout",
     "output_type": "stream",
     "text": [
      "Value of num1 =  32\n",
      "Value of num2 =  77\n"
     ]
    }
   ],
   "source": [
    "num1 = int(input(\"Enter first number = \"))\n",
    "num2 = int(input(\"Enter second number = \"))\n",
    "\n",
    "x = num1\n",
    "num1 = num2\n",
    "num2 = x\n",
    "\n",
    "print(\"Value of num1 = \", num1)\n",
    "print(\"Value of num2 = \", num2)"
   ]
  },
  {
   "cell_type": "code",
   "execution_count": null,
   "id": "19011438-6a29-410c-8ec7-4bd396d18666",
   "metadata": {},
   "outputs": [],
   "source": []
  },
  {
   "cell_type": "raw",
   "id": "3868b171-40b7-42f1-bb9a-50a196035381",
   "metadata": {},
   "source": [
    "4) Write a program that will give you the sum of 3 digits"
   ]
  },
  {
   "cell_type": "code",
   "execution_count": null,
   "id": "2b2b2517-0ef7-4382-a88d-14f6a19eb49e",
   "metadata": {},
   "outputs": [],
   "source": []
  },
  {
   "cell_type": "raw",
   "id": "2c640656-5658-4158-9e15-fed528b9038b",
   "metadata": {},
   "source": [
    "5) Write a program that will reverse a four digit number. Also it checks whether the reverse is true."
   ]
  },
  {
   "cell_type": "code",
   "execution_count": 44,
   "id": "13b50ce3-3b59-44cc-8dad-c60c5a0f06a9",
   "metadata": {},
   "outputs": [
    {
     "name": "stdin",
     "output_type": "stream",
     "text": [
      "Enter four_digit number =  2357\n"
     ]
    },
    {
     "name": "stdout",
     "output_type": "stream",
     "text": [
      "reversed four_digit integer is =  7532\n",
      "False\n"
     ]
    }
   ],
   "source": [
    "num = (input(\"Enter four_digit number = \"))\n",
    "\n",
    "if num.isdigit() and len(num)==4:\n",
    "    a = num\n",
    "    rev = a[::-1]\n",
    "    z = int(rev)\n",
    "print(\"reversed four_digit integer is = \",z)\n",
    "\n",
    "if num==rev:\n",
    "    print(\"True\")\n",
    "else:\n",
    "    print(\"False\")"
   ]
  },
  {
   "cell_type": "code",
   "execution_count": 39,
   "id": "f8368c50-3570-48a0-8b10-062bf9a7e0b1",
   "metadata": {},
   "outputs": [
    {
     "data": {
      "text/plain": [
       "int"
      ]
     },
     "execution_count": 39,
     "metadata": {},
     "output_type": "execute_result"
    }
   ],
   "source": [
    "type(z)"
   ]
  },
  {
   "cell_type": "code",
   "execution_count": 45,
   "id": "b183fa61-4153-406b-b50b-79e99b279f15",
   "metadata": {},
   "outputs": [
    {
     "data": {
      "text/plain": [
       "str"
      ]
     },
     "execution_count": 45,
     "metadata": {},
     "output_type": "execute_result"
    }
   ],
   "source": [
    "type(a)"
   ]
  },
  {
   "cell_type": "code",
   "execution_count": null,
   "id": "bebe895c-cf08-43fd-8def-3adb6b54e6c7",
   "metadata": {},
   "outputs": [],
   "source": []
  },
  {
   "cell_type": "raw",
   "id": "f35045db-6dc8-408a-810b-74ac98447887",
   "metadata": {},
   "source": [
    "6) Write a program that will tell whether the number entered by the user is odd or even."
   ]
  },
  {
   "cell_type": "code",
   "execution_count": 52,
   "id": "e0b558d6-4323-41fd-9f65-25709189c96d",
   "metadata": {},
   "outputs": [
    {
     "name": "stdin",
     "output_type": "stream",
     "text": [
      "enter a number =  4\n"
     ]
    },
    {
     "name": "stdout",
     "output_type": "stream",
     "text": [
      "Even number!\n"
     ]
    }
   ],
   "source": [
    "x = int(input(\"enter a number = \"))\n",
    "\n",
    "if x%2==0:\n",
    "    print(\"Even number!\")\n",
    "\n",
    "else:\n",
    "    print(\"Odd number!\")"
   ]
  },
  {
   "cell_type": "code",
   "execution_count": null,
   "id": "1c3f728c-61f4-4069-8810-ba61f6a7fab5",
   "metadata": {},
   "outputs": [],
   "source": []
  },
  {
   "cell_type": "raw",
   "id": "24a9cb50-7626-45df-8ae9-0b41e64d3f70",
   "metadata": {},
   "source": [
    "7) Write a program that will tell whether the given year is a leap year or not."
   ]
  },
  {
   "cell_type": "code",
   "execution_count": 57,
   "id": "69643ed2-9c11-4878-a19e-8339662aa91c",
   "metadata": {},
   "outputs": [
    {
     "name": "stdin",
     "output_type": "stream",
     "text": [
      "Enter your year =  2000\n"
     ]
    },
    {
     "name": "stdout",
     "output_type": "stream",
     "text": [
      "LEAP Year!\n"
     ]
    }
   ],
   "source": [
    "year = int(input(\"Enter your year = \"))\n",
    "\n",
    "if year%4==0:\n",
    "    print(\"LEAP Year!\")\n",
    "else:\n",
    "    print(\"NOT a Leap Year!\")"
   ]
  },
  {
   "cell_type": "code",
   "execution_count": null,
   "id": "2f2d07d0-47dc-4e77-b06f-3f256deba42c",
   "metadata": {},
   "outputs": [],
   "source": []
  },
  {
   "cell_type": "raw",
   "id": "c0921c2b-6903-4a96-881d-8427ed84bc22",
   "metadata": {},
   "source": [
    "8) Write a program to find the euclidean distance between two coordinates."
   ]
  },
  {
   "cell_type": "code",
   "execution_count": null,
   "id": "72483799-9021-4506-9cb5-04cc6e0f9030",
   "metadata": {},
   "outputs": [],
   "source": []
  },
  {
   "cell_type": "raw",
   "id": "9c6c570e-1b46-427a-a179-f73cc483bffd",
   "metadata": {},
   "source": [
    "9) Write a program that take a user input of three angles and will find out whether it can form a triangle or not."
   ]
  },
  {
   "cell_type": "code",
   "execution_count": 8,
   "id": "29323dae-2730-4ded-9d75-1961fe904a9d",
   "metadata": {},
   "outputs": [
    {
     "name": "stdin",
     "output_type": "stream",
     "text": [
      "Enter angle1 =  90\n",
      "Enter angle2 =  45\n",
      "Enter angle3 =  45\n"
     ]
    },
    {
     "name": "stdout",
     "output_type": "stream",
     "text": [
      "It CAN form a TRIANGLE!\n"
     ]
    }
   ],
   "source": [
    "angle1 = float(input(\"Enter angle1 = \"))\n",
    "angle2 = float(input(\"Enter angle2 = \"))\n",
    "angle3 = float(input(\"Enter angle3 = \"))\n",
    "\n",
    "if angle1+angle2+angle3 == 180 and angle1!=0 and angle2!=0 and angle3!=0:\n",
    "    print(\"It CAN form a TRIANGLE!\")\n",
    "else:\n",
    "    print(\"It CANNOT form a TRIANGLE!\")"
   ]
  },
  {
   "cell_type": "code",
   "execution_count": null,
   "id": "660222a1-fe4f-4958-b4d3-fc2b5a224ba3",
   "metadata": {},
   "outputs": [],
   "source": []
  },
  {
   "cell_type": "raw",
   "id": "e17e31d4-a4cc-466f-a382-744528d9a789",
   "metadata": {},
   "source": [
    "10) Write a program that will take userinput of cost price and selling price and determines whether its a loss or a profit."
   ]
  },
  {
   "cell_type": "code",
   "execution_count": 15,
   "id": "1cf34440-3421-458a-a161-4dcc62e74489",
   "metadata": {},
   "outputs": [
    {
     "name": "stdin",
     "output_type": "stream",
     "text": [
      "Enter the Cost price =  190\n",
      "Enter the Selling price =  32\n"
     ]
    },
    {
     "name": "stdout",
     "output_type": "stream",
     "text": [
      "LOSS: 158.0\n"
     ]
    }
   ],
   "source": [
    "cp = float(input(\"Enter the Cost price = \"))\n",
    "sp = float(input(\"Enter the Selling price = \"))\n",
    "\n",
    "if cp > sp:\n",
    "    amount = cp-sp\n",
    "    print(\"LOSS:\",amount)\n",
    "else:\n",
    "    amount = sp-cp\n",
    "    print(\"PROFIT:\",amount)"
   ]
  },
  {
   "cell_type": "code",
   "execution_count": null,
   "id": "4bb67180-2d6b-4d08-b18d-bcb8c3bdbe5e",
   "metadata": {},
   "outputs": [],
   "source": []
  },
  {
   "cell_type": "raw",
   "id": "74c19cf9-6aa5-4e0c-8af1-2192f558c9c7",
   "metadata": {},
   "source": [
    "11) Write a program to find the simple interest when the value of principle, rate of interest and time period is given."
   ]
  },
  {
   "cell_type": "code",
   "execution_count": 16,
   "id": "fae684db-09a7-44a4-a401-b8d69932cfbb",
   "metadata": {},
   "outputs": [
    {
     "name": "stdin",
     "output_type": "stream",
     "text": [
      "what's the Principle =  20000\n",
      "what's the Rate of Interest =  0.5\n",
      "what's the Time =  2\n"
     ]
    },
    {
     "name": "stdout",
     "output_type": "stream",
     "text": [
      "Simple Interest =  200.0\n"
     ]
    }
   ],
   "source": [
    "principle = float(input(\"what's the Principle = \"))                   # amount\n",
    "rate_of_interest = float(input(\"what's the Rate of Interest = \"))     # as a percentage\n",
    "time = float(input(\"what's the Time = \"))                             # in years\n",
    "\n",
    "simple_interest = principle*rate_of_interest*time/100\n",
    "\n",
    "print(\"Simple Interest = \",simple_interest)"
   ]
  },
  {
   "cell_type": "code",
   "execution_count": null,
   "id": "4a50d3aa-646c-4aa5-b723-91f64aa75125",
   "metadata": {},
   "outputs": [],
   "source": []
  },
  {
   "cell_type": "raw",
   "id": "1c7dacd1-4812-4cb0-a899-20ab5160641c",
   "metadata": {},
   "source": [
    "12) Write a program to find the volume of the cylinder. Also find the cost, when the cost of 1 litre milk is 40Rs."
   ]
  },
  {
   "cell_type": "code",
   "execution_count": 18,
   "id": "7f223c7e-a592-4556-9e49-1a23eb866ec9",
   "metadata": {},
   "outputs": [
    {
     "name": "stdin",
     "output_type": "stream",
     "text": [
      "enter the Radius =  6\n",
      "enter the Height =  8\n",
      "enter the π(pi) =  3.14\n"
     ]
    },
    {
     "name": "stdout",
     "output_type": "stream",
     "text": [
      "Volume of the Cylinder =  904.32\n",
      "The Cost is =  Rs 36.1728\n"
     ]
    }
   ],
   "source": [
    "r = float(input(\"enter the Radius = \"))\n",
    "h = float(input(\"enter the Height = \"))\n",
    "pi = float(input(\"enter the π(pi) = \"))\n",
    "\n",
    "volume_of_cylinder = pi*(r**2)*h\n",
    "\n",
    "print(\"Volume of the Cylinder = \",volume_of_cylinder)\n",
    "\n",
    "# find the cost, when the cost of 1 litre milk is 40Rs.\n",
    "cost = volume_of_cylinder/1000 * 40\n",
    "\n",
    "print(\"The Cost is = \",\"Rs\",cost)"
   ]
  },
  {
   "cell_type": "code",
   "execution_count": null,
   "id": "167e4f07-1dc3-463c-a77d-8fbe30914580",
   "metadata": {},
   "outputs": [],
   "source": []
  },
  {
   "cell_type": "raw",
   "id": "cc6d77ea-0972-4eb6-b018-3c5b23c4b50b",
   "metadata": {},
   "source": [
    "13) Write  a program that will tell whether the given number is divisible by 3 & 6."
   ]
  },
  {
   "cell_type": "code",
   "execution_count": 22,
   "id": "63831f7c-aa2c-4845-82dc-86f52a4750a5",
   "metadata": {},
   "outputs": [
    {
     "name": "stdin",
     "output_type": "stream",
     "text": [
      "Enter the number =  18\n"
     ]
    },
    {
     "name": "stdout",
     "output_type": "stream",
     "text": [
      "Divisible by 3 and 6!\n"
     ]
    }
   ],
   "source": [
    "  "
   ]
  },
  {
   "cell_type": "code",
   "execution_count": null,
   "id": "a2c4c9eb-18bf-4f6b-ab59-c00b74b85de6",
   "metadata": {},
   "outputs": [],
   "source": []
  },
  {
   "cell_type": "raw",
   "id": "c1443982-a2b2-4cab-8df5-0c6fb2e92b4d",
   "metadata": {},
   "source": [
    "16) Write a program that will determine weather when the value of temperature and humidity is provided by the user.\n",
    "\n",
    "TEMPERATURE(C)      HUMIDITY(%)      WEATHER\n",
    "\n",
    ">= 30                 >=90          Hot and Humid\n",
    ">= 30                 < 90             Hot\n",
    "<30                   >= 90         Cool and Humid\n",
    "<30                   <90              Cool"
   ]
  },
  {
   "cell_type": "code",
   "execution_count": 25,
   "id": "52b85a37-020f-42d7-b2b8-5c95a18cb5fb",
   "metadata": {},
   "outputs": [
    {
     "name": "stdin",
     "output_type": "stream",
     "text": [
      "Enter the Temperature in Celcius =  40\n",
      "Enter the Humidity in Percentage =  80\n"
     ]
    },
    {
     "name": "stdout",
     "output_type": "stream",
     "text": [
      "Weather is Hot!\n"
     ]
    }
   ],
   "source": [
    "temp = float(input(\"Enter the Temperature in Celcius = \"))\n",
    "humidity = float(input(\"Enter the Humidity in Percentage = \"))\n",
    "\n",
    "weather = \" \"\n",
    "\n",
    "if temp>=30 and humidity>90:\n",
    "    print(\"Weather is Hot and Humid!\")\n",
    "\n",
    "elif temp>=30 and humidity<90:\n",
    "    print(\"Weather is Hot!\")\n",
    "\n",
    "elif temp<30 and humidity>=90:\n",
    "    print(\"Weather is Cool and Humid!\")\n",
    "\n",
    "elif temp<30 and humidity<90:\n",
    "    print(\"Weather is Cool!\")\n",
    "    "
   ]
  },
  {
   "cell_type": "code",
   "execution_count": null,
   "id": "ef6e6647-9234-4f83-81bc-1a3fd903d197",
   "metadata": {},
   "outputs": [],
   "source": []
  },
  {
   "cell_type": "raw",
   "id": "eb50cc2a-5bc0-4078-9646-5d602de31206",
   "metadata": {},
   "source": [
    "17) Write a program that will take three digits from the user and add the square of each digit."
   ]
  },
  {
   "cell_type": "code",
   "execution_count": 31,
   "id": "42855294-c824-435c-9542-df5698651c2d",
   "metadata": {},
   "outputs": [
    {
     "name": "stdin",
     "output_type": "stream",
     "text": [
      "Enter three_digits =  765\n"
     ]
    },
    {
     "name": "stdout",
     "output_type": "stream",
     "text": [
      "Required number is =  110\n"
     ]
    }
   ],
   "source": [
    "num = int(input(\"Enter three_digits = \"))   #765\n",
    "\n",
    "a = num % 10                 # a = 765 % 10 = 5\n",
    "num = num // 10              # num = 765 // 10 = 76\n",
    "b = num % 10                 # b = 76 % 10 = 6\n",
    "c = num // 10                # c = 76 // 10 = 7\n",
    "\n",
    "add = (a**2)+(b**2)+(c**2)\n",
    "print(\"Required number is = \",add)"
   ]
  },
  {
   "cell_type": "code",
   "execution_count": null,
   "id": "4ed71070-a53d-47a1-81f9-bed2fe46117a",
   "metadata": {},
   "outputs": [],
   "source": []
  },
  {
   "cell_type": "raw",
   "id": "3cd8c39f-0c80-49c6-b91a-1c7c2ccb5d03",
   "metadata": {},
   "source": [
    "18) Write a program that will check whether the number is Armstrong/Narcissist number or not.\n",
    "\n",
    "(Armstrong-->> An n-digit number is considered an Armstrong number if the sum of its own digits,\n",
    "               each raised to the power of n, is equal to the number itself.)\n",
    " \n",
    "Eg:- \n",
    "1)  370 --> 3^3 + 7^3 + 0^3 = 27 + 343 + 0 = 370. (It is an Armstrong Number.)\n",
    "2)  9474 --> 9^4 + 4^4 + 7^4 + 4^4 = 6561 + 256 + 2401 + 256 = 9474. (It is an Armstrong Number.)"
   ]
  },
  {
   "cell_type": "code",
   "execution_count": 59,
   "id": "1eea3e45-aa3e-41a3-9783-fe9d358b12ed",
   "metadata": {},
   "outputs": [
    {
     "name": "stdin",
     "output_type": "stream",
     "text": [
      "Enter three_digit number =  153\n"
     ]
    },
    {
     "name": "stdout",
     "output_type": "stream",
     "text": [
      "Armstrong Number!\n"
     ]
    }
   ],
   "source": [
    "user_input = int(input(\"Enter three_digit number = \"))\n",
    "\n",
    "num = user_input\n",
    "\n",
    "x = num % 10\n",
    "num = num // 10\n",
    "y = num % 10\n",
    "z = num // 10\n",
    "\n",
    "if (x**3)+(y**3)+(z**3) == user_input:\n",
    "    print(\"Armstrong Number!\")\n",
    "\n",
    "else:\n",
    "    print(\"NOT an Armstrong Number!\")"
   ]
  },
  {
   "cell_type": "code",
   "execution_count": null,
   "id": "90376597-a861-411f-ba13-71b40b7364dd",
   "metadata": {},
   "outputs": [],
   "source": []
  },
  {
   "cell_type": "raw",
   "id": "51ee9695-1a97-4339-84bf-29e8f969d447",
   "metadata": {},
   "source": [
    "19) Write a program that will take user input of (4 digits number) and check whether the number is Narcissist number or not."
   ]
  },
  {
   "cell_type": "code",
   "execution_count": 66,
   "id": "e53d4e3a-3a9e-472d-932f-7ed37ae95b0c",
   "metadata": {},
   "outputs": [
    {
     "name": "stdin",
     "output_type": "stream",
     "text": [
      "Enter four_digit number =  8208\n"
     ]
    },
    {
     "name": "stdout",
     "output_type": "stream",
     "text": [
      "Narcissist Number!\n"
     ]
    }
   ],
   "source": [
    "user_input = int(input(\"Enter four_digit number = \"))\n",
    "\n",
    "num = user_input\n",
    "\n",
    "a = num % 10\n",
    "num = num // 10\n",
    "b = num % 10\n",
    "num = num // 10\n",
    "c = num % 10\n",
    "d = num // 10\n",
    "\n",
    "if (a**4)+(b**4)+(c**4)+(d**4)==user_input:\n",
    "    print(\"Narcissist Number!\")\n",
    "\n",
    "else:\n",
    "    print(\"NOT a Narcissist Number!\")"
   ]
  },
  {
   "cell_type": "code",
   "execution_count": null,
   "id": "586d937b-795e-4c54-b97c-b805fbf7cd2f",
   "metadata": {},
   "outputs": [],
   "source": []
  },
  {
   "cell_type": "raw",
   "id": "47aeb1cb-c199-42dc-8b56-cb97c1b9740b",
   "metadata": {},
   "source": [
    "20) Write a program that will give you the in hand salary after deduction of HRA(10%),DA(5%),PF(3%), and tax (if salary is between 5-10 lakh–10%),           (11-20lakh–20%),(20< _   – 30%)(0-1lakh print k)."
   ]
  },
  {
   "cell_type": "code",
   "execution_count": null,
   "id": "f86d0e54-d38d-4e15-9ad7-09625521c706",
   "metadata": {},
   "outputs": [],
   "source": []
  },
  {
   "cell_type": "raw",
   "id": "b8398a3f-3e1e-457f-a35c-45d40204628b",
   "metadata": {},
   "source": [
    "21) Write a menu driven program - 1.(cm to ft)  2.(km to miles)  3.(usd to inr)  4.(exit)"
   ]
  },
  {
   "cell_type": "code",
   "execution_count": 6,
   "id": "5e827fc0-1cc3-4e44-8932-7cedf5b0610e",
   "metadata": {},
   "outputs": [
    {
     "name": "stdout",
     "output_type": "stream",
     "text": [
      "----- Conversion Calculator -----\n",
      "1.  cm to ft\n",
      "2.  km to miles\n",
      "3.  usd to inr\n",
      "4.  exit\n"
     ]
    },
    {
     "name": "stdin",
     "output_type": "stream",
     "text": [
      "Enter your choice =  1\n"
     ]
    },
    {
     "name": "stdout",
     "output_type": "stream",
     "text": [
      "You Selected Option 1.\n"
     ]
    },
    {
     "name": "stdin",
     "output_type": "stream",
     "text": [
      "Enter centimeters =  30\n"
     ]
    },
    {
     "name": "stdout",
     "output_type": "stream",
     "text": [
      "Value in Feet is --> 0.984251968503937\n",
      "----- Conversion Calculator -----\n",
      "1.  cm to ft\n",
      "2.  km to miles\n",
      "3.  usd to inr\n",
      "4.  exit\n"
     ]
    },
    {
     "name": "stdin",
     "output_type": "stream",
     "text": [
      "Enter your choice =  2\n"
     ]
    },
    {
     "name": "stdout",
     "output_type": "stream",
     "text": [
      "You Selected Option 2.\n"
     ]
    },
    {
     "name": "stdin",
     "output_type": "stream",
     "text": [
      "Enter kilometers =  25\n"
     ]
    },
    {
     "name": "stdout",
     "output_type": "stream",
     "text": [
      "Value in Miles is --> 15.534318416245169\n",
      "----- Conversion Calculator -----\n",
      "1.  cm to ft\n",
      "2.  km to miles\n",
      "3.  usd to inr\n",
      "4.  exit\n"
     ]
    },
    {
     "name": "stdin",
     "output_type": "stream",
     "text": [
      "Enter your choice =  3\n"
     ]
    },
    {
     "name": "stdout",
     "output_type": "stream",
     "text": [
      "You Selected Option 3.\n"
     ]
    },
    {
     "name": "stdin",
     "output_type": "stream",
     "text": [
      "Enter usd =  15\n"
     ]
    },
    {
     "name": "stdout",
     "output_type": "stream",
     "text": [
      "Value in INR is --> 1246.8000000000002\n",
      "----- Conversion Calculator -----\n",
      "1.  cm to ft\n",
      "2.  km to miles\n",
      "3.  usd to inr\n",
      "4.  exit\n"
     ]
    },
    {
     "name": "stdin",
     "output_type": "stream",
     "text": [
      "Enter your choice =  4\n"
     ]
    },
    {
     "name": "stdout",
     "output_type": "stream",
     "text": [
      "Exiting the Program.\n"
     ]
    }
   ],
   "source": [
    "while True:\n",
    "    print(\"----- Conversion Calculator -----\")\n",
    "    print(\"1.  cm to ft\")\n",
    "    print(\"2.  km to miles\")\n",
    "    print(\"3.  usd to inr\")\n",
    "    print(\"4.  exit\")\n",
    "\n",
    "    choice = input(\"Enter your choice = \")\n",
    "    \n",
    "    if choice == \"1\":\n",
    "        print(\"You Selected Option 1.\")\n",
    "        cm = float(input(\"Enter centimeters = \"))\n",
    "        feet = cm / 30.48\n",
    "        print(f\"Value in Feet is --> {feet}\")\n",
    "\n",
    "    elif choice == \"2\":\n",
    "        print(\"You Selected Option 2.\")\n",
    "        km = float(input(\"Enter kilometers = \"))\n",
    "        miles = km / 1.60934\n",
    "        print(f\"Value in Miles is --> {miles}\")\n",
    "    \n",
    "    elif choice == \"3\":\n",
    "        print(\"You Selected Option 3.\")\n",
    "        usd = float(input(\"Enter usd = \"))\n",
    "        inr = usd * 83.12\n",
    "        print(f\"Value in INR is --> {inr}\")\n",
    "    \n",
    "    elif choice == \"4\":\n",
    "        print(\"Exiting the Program.\")\n",
    "        break\n",
    "\n",
    "    else:\n",
    "        print(\"Invalid! Please choose from given Options.\")"
   ]
  },
  {
   "cell_type": "code",
   "execution_count": null,
   "id": "a4286e8a-7431-4323-a7f3-e275bb9b48d1",
   "metadata": {},
   "outputs": [],
   "source": []
  },
  {
   "cell_type": "raw",
   "id": "e06c36ca-592f-4732-ae74-b3e7d7b7fe5b",
   "metadata": {},
   "source": [
    "23) Write a program that will swap numbers"
   ]
  },
  {
   "cell_type": "code",
   "execution_count": 7,
   "id": "c643461b-4eb3-45a8-aa36-2d8a21f4798e",
   "metadata": {},
   "outputs": [
    {
     "name": "stdin",
     "output_type": "stream",
     "text": [
      "Enter num1 =  5\n",
      "Enter num2 =  3\n"
     ]
    },
    {
     "name": "stdout",
     "output_type": "stream",
     "text": [
      "After Swapping it becomes-->\n",
      "a =  3\n",
      "b =  5\n"
     ]
    }
   ],
   "source": [
    "a = int(input(\"Enter num1 = \"))       # 5\n",
    "b = int(input(\"Enter num2 = \"))       # 3\n",
    "\n",
    "a = a+b              # a = 5+3 = 8    \n",
    "b = a-b              # b = 8-3 = 5     b=5\n",
    "a = a-b              # a = 8-5 = 3     a=3\n",
    "\n",
    "print(\"After Swapping it becomes-->\")\n",
    "print(\"a = \",a)\n",
    "print(\"b = \",b)"
   ]
  },
  {
   "cell_type": "code",
   "execution_count": null,
   "id": "c16d06f9-e93d-4d29-82d0-92c5f2bd9786",
   "metadata": {},
   "outputs": [],
   "source": []
  },
  {
   "cell_type": "raw",
   "id": "6a1c5d5f-2388-44f1-bced-24a92819dcd7",
   "metadata": {},
   "source": [
    "24) Write a program to find the sum of first n numbers, where n will be provided by the user. Eg if the user provides n=10 the output should be 55."
   ]
  },
  {
   "cell_type": "code",
   "execution_count": 11,
   "id": "f65ba3af-cd5b-4ae4-a549-f4d275a2bdec",
   "metadata": {},
   "outputs": [
    {
     "name": "stdin",
     "output_type": "stream",
     "text": [
      "Enter the number =  7\n"
     ]
    },
    {
     "name": "stdout",
     "output_type": "stream",
     "text": [
      "Sum of first n number is =  28.0\n"
     ]
    }
   ],
   "source": [
    "n = int(input(\"Enter the number = \"))\n",
    "\n",
    "Sum = n * (n + 1) / 2\n",
    "\n",
    "print(\"Sum of first n number is = \",Sum)\n"
   ]
  },
  {
   "cell_type": "code",
   "execution_count": null,
   "id": "c627ff19-d24e-4855-9881-413c12b377e5",
   "metadata": {},
   "outputs": [],
   "source": []
  },
  {
   "cell_type": "raw",
   "id": "effb91a5-ffae-4565-857a-a883871fe03f",
   "metadata": {},
   "source": [
    "25) Write a program that can multiply 2 numbers provided by the user without using the * operator"
   ]
  },
  {
   "cell_type": "code",
   "execution_count": 4,
   "id": "51d66d29-ec85-4f41-bb3b-91aca334ba61",
   "metadata": {},
   "outputs": [
    {
     "name": "stdin",
     "output_type": "stream",
     "text": [
      "Enter num1 =  9\n",
      "Enter num2 =  2\n"
     ]
    },
    {
     "name": "stdout",
     "output_type": "stream",
     "text": [
      "Result is =  18\n"
     ]
    }
   ],
   "source": [
    "first_num = int(input(\"Enter num1 = \"))\n",
    "second_num = int(input(\"Enter num2 = \"))\n",
    "sum = 0\n",
    "\n",
    "for i in range(0,first_num):\n",
    "    sum = sum + second_num\n",
    "\n",
    "print(\"Result is = \",sum)"
   ]
  },
  {
   "cell_type": "code",
   "execution_count": null,
   "id": "173b002e-f836-4db1-b818-b62d695e3f24",
   "metadata": {},
   "outputs": [],
   "source": []
  },
  {
   "cell_type": "raw",
   "id": "e72d57eb-8ec1-4eab-bc6d-7599af20642b",
   "metadata": {},
   "source": []
  },
  {
   "cell_type": "raw",
   "id": "340c972a-7788-4bcf-ba7e-813780489cea",
   "metadata": {},
   "source": []
  },
  {
   "cell_type": "raw",
   "id": "cae4a362-7d97-4317-a15b-a48095d09c98",
   "metadata": {},
   "source": [
    "26) Write a program that can find the factorial of a given number provided by the user.b"
   ]
  },
  {
   "cell_type": "code",
   "execution_count": 34,
   "id": "d183df0e-8546-463e-9006-641c725ba094",
   "metadata": {},
   "outputs": [
    {
     "name": "stdin",
     "output_type": "stream",
     "text": [
      "Enter any number =  5\n"
     ]
    },
    {
     "name": "stdout",
     "output_type": "stream",
     "text": [
      "120\n"
     ]
    }
   ],
   "source": [
    "n = int(input(\"Enter any number = \"))\n",
    "\n",
    "if n==0:\n",
    "    print('factorial of 0 is 1')\n",
    "\n",
    "elif n==1:\n",
    "    print('factorial of 1 is 1')\n",
    "\n",
    "elif n>1:\n",
    "    factorial=1\n",
    "    for i in range(1, n+1):       #range(1, n+1) means ,if i give range(1,n) then it will stop before nth number, so i have to give n+1 so that it can got bypnd nth number.\n",
    "        factorial = factorial*i\n",
    "    print(factorial)"
   ]
  },
  {
   "cell_type": "code",
   "execution_count": null,
   "id": "689030a1-04bc-47ea-832f-d4f07fd51b4a",
   "metadata": {},
   "outputs": [],
   "source": []
  },
  {
   "cell_type": "raw",
   "id": "2d44a95e-99f1-40ae-a330-dfcb24828df8",
   "metadata": {},
   "source": [
    "27) Write a program to print the first 25 odd numbers."
   ]
  },
  {
   "cell_type": "code",
   "execution_count": 46,
   "id": "c08bbcf3-d2e9-44c5-8ff9-ca17d464acf4",
   "metadata": {},
   "outputs": [
    {
     "name": "stdout",
     "output_type": "stream",
     "text": [
      "[1, 3, 5, 7, 9, 11, 13, 15, 17, 19, 21, 23, 25, 27, 29, 31, 33, 35, 37, 39, 41, 43, 45, 47, 49]\n",
      "Total odd numbers are =  25\n"
     ]
    }
   ],
   "source": [
    "z=[]\n",
    "for i in range(50):\n",
    "    if i%2!=0:\n",
    "        z.append(i)\n",
    "print(z)\n",
    "print(\"Total odd numbers are = \",len(z))"
   ]
  },
  {
   "cell_type": "code",
   "execution_count": null,
   "id": "ad782d4e-fe26-49ec-8dac-0990dfa9ffd7",
   "metadata": {},
   "outputs": [],
   "source": []
  },
  {
   "cell_type": "raw",
   "id": "f601a5ed-d19c-4c80-992d-5ecc686d217b",
   "metadata": {},
   "source": [
    "28) Write a program to print whether a given number is prime number or not"
   ]
  },
  {
   "cell_type": "code",
   "execution_count": 23,
   "id": "ba8fc197-4191-43b6-b986-edd72b3e4965",
   "metadata": {},
   "outputs": [
    {
     "name": "stdin",
     "output_type": "stream",
     "text": [
      "Enter a number =  11\n"
     ]
    },
    {
     "name": "stdout",
     "output_type": "stream",
     "text": [
      "its a Prime Number!\n"
     ]
    }
   ],
   "source": [
    "num = int(input(\"Enter a number = \"))\n",
    "\n",
    "if num==2:\n",
    "    print(\"Prime Number!\")\n",
    "\n",
    "elif num>1:\n",
    "    for i in range(2,num):\n",
    "        if num%i==0:\n",
    "            print(num,\"is not a Prime Number!\")\n",
    "            break\n",
    "    \n",
    "        else:\n",
    "            print(\"its a Prime Number!\")\n",
    "            break\n",
    "\n",
    "else:\n",
    "    print(\"Not a Prime Number!\")"
   ]
  },
  {
   "cell_type": "raw",
   "id": "cc814279-639e-4dbd-a525-e4b0833ed9fb",
   "metadata": {},
   "source": []
  },
  {
   "cell_type": "raw",
   "id": "a468099f-620c-448f-8f4f-1a685c5a78ee",
   "metadata": {},
   "source": [
    "29) Print all the Armstrong Numbers in the range of 100 to 1000"
   ]
  },
  {
   "cell_type": "code",
   "execution_count": 2,
   "id": "7bc22669-4cad-4701-b844-c1d235cfce73",
   "metadata": {},
   "outputs": [
    {
     "name": "stdout",
     "output_type": "stream",
     "text": [
      "153\n",
      "370\n",
      "371\n",
      "407\n"
     ]
    }
   ],
   "source": [
    "for num in range(100,1000):\n",
    "    \n",
    "    i = num\n",
    "    a = num % 10\n",
    "    num = num // 10\n",
    "    b = num % 10\n",
    "    c = num // 10\n",
    "\n",
    "    if (a**3) + (b**3) + (c**3) == i:\n",
    "        print(i)\n",
    "    i=i+1"
   ]
  },
  {
   "cell_type": "code",
   "execution_count": null,
   "id": "42a4e4da-25a4-4533-8ab4-5ded60029e16",
   "metadata": {},
   "outputs": [],
   "source": []
  },
  {
   "cell_type": "raw",
   "id": "178084ea-492a-4b51-9b90-405da09f5dbc",
   "metadata": {},
   "source": [
    "30) The current population of a town is 10000.\n",
    "    The population of the town is increasing at the rate of 10% per year.\n",
    "    You have to write a program to find out the population at the end of each of the last 10 years.\n",
    "\n",
    "    For eg current population is 10000 so the output should be like this:\n",
    "    10th year - 10000\n",
    "    9th year - 9000\n",
    "    8th year - 8100 and so on."
   ]
  },
  {
   "cell_type": "code",
   "execution_count": 22,
   "id": "5322f4c9-3145-439b-adf0-a3ec29c83f4c",
   "metadata": {},
   "outputs": [
    {
     "name": "stdout",
     "output_type": "stream",
     "text": [
      "10 th year -  9000\n",
      "9 th year -  8100\n",
      "8 th year -  7290\n",
      "7 th year -  6561\n",
      "6 th year -  5904\n",
      "5 th year -  5314\n",
      "4 th year -  4782\n",
      "3 th year -  4304\n",
      "2 th year -  3874\n",
      "1 th year -  3486\n"
     ]
    }
   ],
   "source": [
    "Population = 10000\n",
    "\n",
    "for i in range(10,0,-1):\n",
    "    Population = (Population * 90 / 100)      # 10% Decrease each year\n",
    "    print(i,\"th year - \",int(Population))"
   ]
  },
  {
   "cell_type": "code",
   "execution_count": null,
   "id": "9da9c979-1069-4c3f-b4cf-dbd7e399bda1",
   "metadata": {},
   "outputs": [],
   "source": []
  },
  {
   "cell_type": "raw",
   "id": "b2095fd5-1b76-4b5d-a327-6516cbb9176f",
   "metadata": {},
   "source": [
    "31) Write a program to print all the unique combinations of 1,2,3 and 4"
   ]
  },
  {
   "cell_type": "code",
   "execution_count": 25,
   "id": "71474f66-998c-4921-a4d8-02e1386d600d",
   "metadata": {},
   "outputs": [
    {
     "name": "stdout",
     "output_type": "stream",
     "text": [
      "1 2\n",
      "1 3\n",
      "1 4\n",
      "2 1\n",
      "2 3\n",
      "2 4\n",
      "3 1\n",
      "3 2\n",
      "3 4\n",
      "4 1\n",
      "4 2\n",
      "4 3\n"
     ]
    }
   ],
   "source": [
    "for i in range(1,5):\n",
    "    for j in range(1,5):\n",
    "        if i!=j:\n",
    "            print(i,j)"
   ]
  },
  {
   "cell_type": "code",
   "execution_count": null,
   "id": "f7149d7c-d68b-4010-a3fe-c63f6304ca00",
   "metadata": {},
   "outputs": [],
   "source": []
  },
  {
   "cell_type": "raw",
   "id": "65f862c0-2c0b-4b07-96f7-821130ac2714",
   "metadata": {},
   "source": [
    "32) User will provide 2 numbers you have to find the HCF(Highest Common Divisor) of those 2 numbers."
   ]
  },
  {
   "cell_type": "code",
   "execution_count": 36,
   "id": "481666c4-03cf-4ff4-b2ea-5205164a9197",
   "metadata": {},
   "outputs": [
    {
     "name": "stdin",
     "output_type": "stream",
     "text": [
      "Enter a num1 =  12\n",
      "Enter a num2 = 18\n"
     ]
    },
    {
     "name": "stdout",
     "output_type": "stream",
     "text": [
      "Divisors of 12 : 1\n",
      "Divisors of 12 : 2\n",
      "Divisors of 12 : 3\n",
      "Divisors of 12 : 6\n",
      "HCF(Highest Common Divisor) : 6\n"
     ]
    }
   ],
   "source": [
    "num1 = int(input(\"Enter a num1 = \"))\n",
    "num2 = int(input(\"Enter a num2 =\"))\n",
    "\n",
    "hcf = 1\n",
    "\n",
    "for i in range(1, min(num1,num2)+1):\n",
    "    if num1 % i==0 and num2 % i==0:\n",
    "        print(\"Divisors of\",num1,\":\",i)\n",
    "        hcf = i\n",
    "        \n",
    "print(\"HCF(Highest Common Divisor) :\",hcf)\n",
    "    "
   ]
  },
  {
   "cell_type": "code",
   "execution_count": null,
   "id": "29987aa1-a14f-4b11-a72d-fc07b8ce1aae",
   "metadata": {},
   "outputs": [],
   "source": []
  },
  {
   "cell_type": "raw",
   "id": "19a1237c-c89e-4162-816a-3069cb01135c",
   "metadata": {},
   "source": [
    "34) Print first 25 prime numbers."
   ]
  },
  {
   "cell_type": "code",
   "execution_count": 38,
   "id": "fe8718af-6f39-436b-b940-41446c06fc6c",
   "metadata": {},
   "outputs": [
    {
     "ename": "ZeroDivisionError",
     "evalue": "integer modulo by zero",
     "output_type": "error",
     "traceback": [
      "\u001b[1;31m---------------------------------------------------------------------------\u001b[0m",
      "\u001b[1;31mZeroDivisionError\u001b[0m                         Traceback (most recent call last)",
      "Cell \u001b[1;32mIn[38], line 2\u001b[0m\n\u001b[0;32m      1\u001b[0m \u001b[38;5;28;01mfor\u001b[39;00m i \u001b[38;5;129;01min\u001b[39;00m \u001b[38;5;28mrange\u001b[39m(\u001b[38;5;241m50\u001b[39m):\n\u001b[1;32m----> 2\u001b[0m     \u001b[38;5;28;01mif\u001b[39;00m i \u001b[38;5;241m%\u001b[39m \u001b[38;5;241m1\u001b[39m\u001b[38;5;241m==\u001b[39m\u001b[38;5;241m0\u001b[39m \u001b[38;5;129;01mand\u001b[39;00m \u001b[43mi\u001b[49m\u001b[43m \u001b[49m\u001b[38;5;241;43m%\u001b[39;49m\u001b[43m \u001b[49m\u001b[43mi\u001b[49m\u001b[38;5;241m==\u001b[39m\u001b[38;5;241m0\u001b[39m:\n\u001b[0;32m      3\u001b[0m         \u001b[38;5;28mprint\u001b[39m(i)\n",
      "\u001b[1;31mZeroDivisionError\u001b[0m: integer modulo by zero"
     ]
    }
   ],
   "source": [
    "for i in range(50):\n",
    "    if i % 1==0 and i % i==0:\n",
    "        print(i)"
   ]
  },
  {
   "cell_type": "code",
   "execution_count": 3,
   "id": "5da17a80-4fea-403f-b76d-c5162e10dccd",
   "metadata": {},
   "outputs": [
    {
     "ename": "KeyboardInterrupt",
     "evalue": "",
     "output_type": "error",
     "traceback": [
      "\u001b[1;31m---------------------------------------------------------------------------\u001b[0m",
      "\u001b[1;31mKeyboardInterrupt\u001b[0m                         Traceback (most recent call last)",
      "Cell \u001b[1;32mIn[3], line 3\u001b[0m\n\u001b[0;32m      1\u001b[0m num \u001b[38;5;241m=\u001b[39m \u001b[38;5;241m2\u001b[39m\n\u001b[1;32m----> 3\u001b[0m \u001b[38;5;28;01mwhile\u001b[39;00m num \u001b[38;5;241m<\u001b[39m\u001b[38;5;241m=\u001b[39m \u001b[38;5;241m25\u001b[39m:\n\u001b[0;32m      4\u001b[0m     \u001b[38;5;28;01mfor\u001b[39;00m i \u001b[38;5;129;01min\u001b[39;00m \u001b[38;5;28mrange\u001b[39m(\u001b[38;5;241m2\u001b[39m,num):\n\u001b[0;32m      5\u001b[0m         \u001b[38;5;28;01mif\u001b[39;00m num\u001b[38;5;241m%\u001b[39mi\u001b[38;5;241m==\u001b[39m\u001b[38;5;241m0\u001b[39m \u001b[38;5;129;01mand\u001b[39;00m num\u001b[38;5;241m%\u001b[39mnum\u001b[38;5;241m==\u001b[39m\u001b[38;5;241m0\u001b[39m:\n",
      "\u001b[1;31mKeyboardInterrupt\u001b[0m: "
     ]
    }
   ],
   "source": [
    "num = 2\n",
    "\n",
    "while num <= 25:\n",
    "    for i in range(2,num):\n",
    "        if num%i==0 and num%num==0:\n",
    "            print(\"Prime number\")\n",
    "            num = num+1\n",
    "            break"
   ]
  },
  {
   "cell_type": "code",
   "execution_count": null,
   "id": "456375db-5073-4684-98bf-a9e4c44cdc4d",
   "metadata": {},
   "outputs": [],
   "source": []
  },
  {
   "cell_type": "code",
   "execution_count": null,
   "id": "f59b88c9-6666-4e9d-a559-54752d943cb9",
   "metadata": {},
   "outputs": [],
   "source": []
  }
 ],
 "metadata": {
  "kernelspec": {
   "display_name": "Python 3 (ipykernel)",
   "language": "python",
   "name": "python3"
  },
  "language_info": {
   "codemirror_mode": {
    "name": "ipython",
    "version": 3
   },
   "file_extension": ".py",
   "mimetype": "text/x-python",
   "name": "python",
   "nbconvert_exporter": "python",
   "pygments_lexer": "ipython3",
   "version": "3.11.5"
  }
 },
 "nbformat": 4,
 "nbformat_minor": 5
}
